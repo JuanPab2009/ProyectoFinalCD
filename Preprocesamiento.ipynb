{
 "cells": [
  {
   "cell_type": "code",
   "id": "65ad88ff",
   "metadata": {
    "ExecuteTime": {
     "end_time": "2024-09-11T00:48:40.924277Z",
     "start_time": "2024-09-11T00:48:38.209410Z"
    }
   },
   "source": [
    "import pandas as pd\n",
    "import numpy as np\n",
    "from sklearn.preprocessing import LabelEncoder\n",
    "import re\n",
    "import os\n",
    "import matplotlib.pyplot as plt\n",
    "import seaborn as sns \n",
    "import warnings\n",
    "warnings.filterwarnings(\"ignore\")\n",
    "%matplotlib inline\n",
    "plt.style.use('ggplot')\n",
    "\n",
    "warnings.filterwarnings(\"ignore\")\n",
    "\n",
    "#import graphviz \n",
    "from sklearn.datasets import make_classification\n",
    "\n",
    "%matplotlib inline\n",
    "plt.style.use('ggplot')"
   ],
   "outputs": [],
   "execution_count": 1
  },
  {
   "cell_type": "code",
   "id": "1be2ea42",
   "metadata": {
    "ExecuteTime": {
     "end_time": "2024-09-11T00:49:22.963386Z",
     "start_time": "2024-09-11T00:49:21.003556Z"
    }
   },
   "source": [
    "url= \"https://fbref.com/es/equipos/206d90db/2023-2024/partidos/c12/schedule/Resultados-y-partidos-de-Barcelona-La-Liga\"\n",
    "tables = pd.read_html(url)\n",
    "df = tables[0]"
   ],
   "outputs": [],
   "execution_count": 3
  },
  {
   "cell_type": "code",
   "id": "96eb0ba1",
   "metadata": {
    "ExecuteTime": {
     "end_time": "2024-09-11T00:49:24.533380Z",
     "start_time": "2024-09-11T00:49:24.530583Z"
    }
   },
   "source": [
    "df=df[['Fecha','Día','Sedes', 'Resultado', 'GF', 'GC','Adversario','Formación','Árbitro']]"
   ],
   "outputs": [],
   "execution_count": 4
  },
  {
   "cell_type": "code",
   "id": "7e245289",
   "metadata": {
    "ExecuteTime": {
     "end_time": "2024-09-11T00:49:25.267415Z",
     "start_time": "2024-09-11T00:49:25.263958Z"
    }
   },
   "source": [
    "df = df.dropna(subset=['Resultado'])"
   ],
   "outputs": [],
   "execution_count": 5
  },
  {
   "cell_type": "code",
   "id": "2ab6f2f5",
   "metadata": {
    "ExecuteTime": {
     "end_time": "2024-09-11T00:49:25.673021Z",
     "start_time": "2024-09-11T00:49:25.670407Z"
    }
   },
   "source": [
    "df['Día'] = df['Día'].replace({'Sáb':6,'Dom':7,'Lun':1,'Mar':2,'Mié':3,'Jue':4,'Vie':5})\n",
    "df['Resultado'] = df['Resultado'].replace({'V':3,'E':2,'D':1})\n",
    "df['Sedes'] = df['Sedes'].replace({'Local':1,'Visitante':0})"
   ],
   "outputs": [],
   "execution_count": 6
  },
  {
   "cell_type": "code",
   "id": "d3cd0deb",
   "metadata": {
    "ExecuteTime": {
     "end_time": "2024-09-11T00:49:26.112106Z",
     "start_time": "2024-09-11T00:49:26.109752Z"
    }
   },
   "source": [
    "df['Anfitrion']='Barcelona'"
   ],
   "outputs": [],
   "execution_count": 7
  },
  {
   "cell_type": "markdown",
   "id": "967b2993",
   "metadata": {},
   "source": [
    "### Estadisticas básicas"
   ]
  },
  {
   "cell_type": "code",
   "id": "6d8dcc0c",
   "metadata": {
    "ExecuteTime": {
     "end_time": "2024-09-11T00:49:27.476753Z",
     "start_time": "2024-09-11T00:49:27.064141Z"
    }
   },
   "source": [
    "url= \"https://fbref.com/es/comps/12/Estadisticas-de-La-Liga\"\n",
    "tables = pd.read_html(url)\n",
    "df_basic = tables[0]"
   ],
   "outputs": [],
   "execution_count": 8
  },
  {
   "cell_type": "code",
   "id": "4851c207",
   "metadata": {
    "ExecuteTime": {
     "end_time": "2024-09-11T00:49:27.481996Z",
     "start_time": "2024-09-11T00:49:27.480237Z"
    }
   },
   "source": [
    "df_basic=df_basic[['RL','Equipo','PG','PE', 'PP','GF','GC', 'xG', 'xGA','Últimos 5','Máximo Goleador del Equipo']]"
   ],
   "outputs": [],
   "execution_count": 9
  },
  {
   "cell_type": "code",
   "id": "5fe3ec33",
   "metadata": {
    "ExecuteTime": {
     "end_time": "2024-09-11T00:49:29.133329Z",
     "start_time": "2024-09-11T00:49:29.130943Z"
    }
   },
   "source": [
    "df_basic['Máximo Goleador del Equipo'] = df_basic['Máximo Goleador del Equipo'].apply(lambda x: int(re.search(r'\\b(\\d+)\\b', x).group(1)) if re.search(r'\\b(\\d+)\\b', x) else None)\n",
    "\n",
    "df_basic['Últimos 5'] = df_basic['Últimos 5'].apply(lambda resultados: sum([3 if resultado == 'PG' else (1 if resultado == 'PE' else 0) for resultado in resultados.split()]))\n"
   ],
   "outputs": [],
   "execution_count": 10
  },
  {
   "cell_type": "markdown",
   "id": "c2597b17",
   "metadata": {},
   "source": [
    "### Estadisticas de Ofensiva"
   ]
  },
  {
   "cell_type": "code",
   "id": "8c494cb0",
   "metadata": {
    "ExecuteTime": {
     "end_time": "2024-09-11T00:49:30.519896Z",
     "start_time": "2024-09-11T00:49:30.107874Z"
    }
   },
   "source": [
    "url= \"https://fbref.com/es/comps/12/Estadisticas-de-La-Liga\"\n",
    "tables = pd.read_html(url)\n",
    "df_ataque = tables[2]"
   ],
   "outputs": [],
   "execution_count": 11
  },
  {
   "cell_type": "code",
   "id": "ce6446f9",
   "metadata": {
    "ExecuteTime": {
     "end_time": "2024-09-11T00:49:30.648028Z",
     "start_time": "2024-09-11T00:49:30.644771Z"
    }
   },
   "source": [
    "df_ataque = df_ataque.drop([\"Tiempo Jugado\",\"Expectativa\",'Por 90 Minutos'],axis=1)"
   ],
   "outputs": [],
   "execution_count": 12
  },
  {
   "cell_type": "code",
   "id": "81bbfe79",
   "metadata": {
    "ExecuteTime": {
     "end_time": "2024-09-11T00:49:31.188480Z",
     "start_time": "2024-09-11T00:49:31.186780Z"
    }
   },
   "source": [
    "df_ataque.columns = df_ataque.columns.droplevel(level=0)"
   ],
   "outputs": [],
   "execution_count": 13
  },
  {
   "cell_type": "code",
   "id": "dba091f1",
   "metadata": {
    "ExecuteTime": {
     "end_time": "2024-09-11T00:49:31.630163Z",
     "start_time": "2024-09-11T00:49:31.628099Z"
    }
   },
   "source": [
    "df_ataque=df_ataque[['Equipo', 'Edad', 'Pos.','Ass','TPint', 'PrgC', 'PrgP']]"
   ],
   "outputs": [],
   "execution_count": 14
  },
  {
   "cell_type": "markdown",
   "id": "26578114",
   "metadata": {},
   "source": [
    "##### Disparos"
   ]
  },
  {
   "cell_type": "code",
   "id": "740c7bc0",
   "metadata": {
    "ExecuteTime": {
     "end_time": "2024-09-11T00:49:32.956267Z",
     "start_time": "2024-09-11T00:49:32.483693Z"
    }
   },
   "source": [
    "url= \"https://fbref.com/es/comps/12/Estadisticas-de-La-Liga\"\n",
    "tables = pd.read_html(url)\n",
    "df_disparos = tables[8]"
   ],
   "outputs": [],
   "execution_count": 15
  },
  {
   "cell_type": "code",
   "id": "5029ba68",
   "metadata": {
    "ExecuteTime": {
     "end_time": "2024-09-11T00:49:33.025822Z",
     "start_time": "2024-09-11T00:49:33.024322Z"
    }
   },
   "source": [
    "df_disparos.columns=df_disparos.columns.droplevel(level=0)"
   ],
   "outputs": [],
   "execution_count": 16
  },
  {
   "cell_type": "code",
   "id": "9e224f9c",
   "metadata": {
    "ExecuteTime": {
     "end_time": "2024-09-11T00:49:33.524628Z",
     "start_time": "2024-09-11T00:49:33.522626Z"
    }
   },
   "source": [
    "df_disparos=df_disparos[['Equipo', '% de TT','Dist']]"
   ],
   "outputs": [],
   "execution_count": 17
  },
  {
   "cell_type": "code",
   "id": "6864511f",
   "metadata": {
    "ExecuteTime": {
     "end_time": "2024-09-11T00:49:33.954861Z",
     "start_time": "2024-09-11T00:49:33.951464Z"
    }
   },
   "source": [
    "df_ataque = pd.merge(df_ataque, df_disparos, left_on='Equipo', right_on='Equipo', how='left')"
   ],
   "outputs": [],
   "execution_count": 18
  },
  {
   "cell_type": "markdown",
   "id": "50f331d3",
   "metadata": {},
   "source": [
    "##### Pases"
   ]
  },
  {
   "cell_type": "code",
   "id": "a4a9ae46",
   "metadata": {
    "ExecuteTime": {
     "end_time": "2024-09-11T00:49:35.207527Z",
     "start_time": "2024-09-11T00:49:34.773945Z"
    }
   },
   "source": [
    "url= \"https://fbref.com/es/comps/12/Estadisticas-de-La-Liga\"\n",
    "tables = pd.read_html(url)\n",
    "df_pases = tables[10]"
   ],
   "outputs": [],
   "execution_count": 19
  },
  {
   "cell_type": "code",
   "id": "bbc591c8",
   "metadata": {
    "ExecuteTime": {
     "end_time": "2024-09-11T00:49:35.264981Z",
     "start_time": "2024-09-11T00:49:35.262719Z"
    }
   },
   "source": [
    "df_pases = df_pases.drop([\"Cortos\",\"Medios\",'Largos','Expectativa'],axis=1)"
   ],
   "outputs": [],
   "execution_count": 20
  },
  {
   "cell_type": "code",
   "id": "882ba897",
   "metadata": {
    "ExecuteTime": {
     "end_time": "2024-09-11T00:49:35.651131Z",
     "start_time": "2024-09-11T00:49:35.649229Z"
    }
   },
   "source": [
    "df_pases.columns=df_pases.columns.droplevel(level=0)"
   ],
   "outputs": [],
   "execution_count": 21
  },
  {
   "cell_type": "code",
   "id": "8e16db16",
   "metadata": {
    "ExecuteTime": {
     "end_time": "2024-09-11T00:49:36.023505Z",
     "start_time": "2024-09-11T00:49:36.021401Z"
    }
   },
   "source": [
    "df_pases=df_pases[['Equipo', '% Cmp','Dist. tot.']]"
   ],
   "outputs": [],
   "execution_count": 22
  },
  {
   "cell_type": "code",
   "id": "de02a405",
   "metadata": {
    "ExecuteTime": {
     "end_time": "2024-09-11T00:49:36.378925Z",
     "start_time": "2024-09-11T00:49:36.376142Z"
    }
   },
   "source": [
    "df_ataque = pd.merge(df_ataque, df_pases, left_on='Equipo', right_on='Equipo', how='left')"
   ],
   "outputs": [],
   "execution_count": 23
  },
  {
   "cell_type": "markdown",
   "id": "7887d25d",
   "metadata": {},
   "source": [
    "### Estadisticas de defensa"
   ]
  },
  {
   "cell_type": "code",
   "id": "26c289f0",
   "metadata": {
    "ExecuteTime": {
     "end_time": "2024-09-11T00:49:37.875421Z",
     "start_time": "2024-09-11T00:49:37.447997Z"
    }
   },
   "source": [
    "url= \"https://fbref.com/es/comps/12/Estadisticas-de-La-Liga\"\n",
    "tables = pd.read_html(url)\n",
    "df_porteria = tables[4]"
   ],
   "outputs": [],
   "execution_count": 24
  },
  {
   "cell_type": "code",
   "id": "d4d52594",
   "metadata": {
    "ExecuteTime": {
     "end_time": "2024-09-11T00:49:37.878055Z",
     "start_time": "2024-09-11T00:49:37.876182Z"
    }
   },
   "source": [
    "df_porteria = df_porteria.drop([\"Tiempo Jugado\",\"Tiros penales\"],axis=1)"
   ],
   "outputs": [],
   "execution_count": 25
  },
  {
   "cell_type": "code",
   "id": "6ac34803",
   "metadata": {
    "ExecuteTime": {
     "end_time": "2024-09-11T00:49:38.394511Z",
     "start_time": "2024-09-11T00:49:38.392848Z"
    }
   },
   "source": [
    "df_porteria.columns = df_porteria.columns.droplevel(level=0)"
   ],
   "outputs": [],
   "execution_count": 26
  },
  {
   "cell_type": "code",
   "id": "e43eb2b0",
   "metadata": {
    "ExecuteTime": {
     "end_time": "2024-09-11T00:49:38.803588Z",
     "start_time": "2024-09-11T00:49:38.801609Z"
    }
   },
   "source": [
    "df_porteria=df_porteria[['Equipo', 'GC', 'DaPC', 'Salvadas','PaC']]"
   ],
   "outputs": [],
   "execution_count": 27
  },
  {
   "cell_type": "code",
   "id": "40a442ef",
   "metadata": {
    "ExecuteTime": {
     "end_time": "2024-09-11T00:49:39.584314Z",
     "start_time": "2024-09-11T00:49:39.157169Z"
    }
   },
   "source": [
    "url= \"https://fbref.com/es/comps/12/Estadisticas-de-La-Liga\"\n",
    "tables = pd.read_html(url)\n",
    "df_defensa = tables[16]"
   ],
   "outputs": [],
   "execution_count": 28
  },
  {
   "cell_type": "code",
   "id": "2fd2767b",
   "metadata": {
    "ExecuteTime": {
     "end_time": "2024-09-11T00:49:39.688641Z",
     "start_time": "2024-09-11T00:49:39.686546Z"
    }
   },
   "source": [
    "df_defensa = df_defensa.drop(['Desafíos'],axis=1)"
   ],
   "outputs": [],
   "execution_count": 29
  },
  {
   "cell_type": "code",
   "id": "c60e39a1",
   "metadata": {
    "ExecuteTime": {
     "end_time": "2024-09-11T00:49:40.154070Z",
     "start_time": "2024-09-11T00:49:40.152563Z"
    }
   },
   "source": [
    "df_defensa.columns=df_defensa.columns.droplevel(level=0)"
   ],
   "outputs": [],
   "execution_count": 30
  },
  {
   "cell_type": "code",
   "id": "6863e599",
   "metadata": {
    "ExecuteTime": {
     "end_time": "2024-09-11T00:49:40.462591Z",
     "start_time": "2024-09-11T00:49:40.459406Z"
    }
   },
   "source": [
    "df_defensa=df_defensa[['Equipo', 'TklG','Int','Err']]"
   ],
   "outputs": [],
   "execution_count": 31
  },
  {
   "cell_type": "code",
   "id": "4595f54c",
   "metadata": {
    "ExecuteTime": {
     "end_time": "2024-09-11T00:49:40.748359Z",
     "start_time": "2024-09-11T00:49:40.744926Z"
    }
   },
   "source": [
    "df_final = pd.merge(df_ataque, df_defensa, left_on='Equipo', right_on='Equipo', how='left')"
   ],
   "outputs": [],
   "execution_count": 32
  },
  {
   "cell_type": "code",
   "id": "2c541054",
   "metadata": {
    "ExecuteTime": {
     "end_time": "2024-09-11T00:49:41.015607Z",
     "start_time": "2024-09-11T00:49:41.012109Z"
    }
   },
   "source": [
    "df_final = pd.merge(df_final, df_basic, left_on='Equipo', right_on='Equipo', how='left')"
   ],
   "outputs": [],
   "execution_count": 33
  },
  {
   "cell_type": "code",
   "id": "27805526",
   "metadata": {
    "ExecuteTime": {
     "end_time": "2024-09-11T00:49:41.298338Z",
     "start_time": "2024-09-11T00:49:41.296223Z"
    }
   },
   "source": [
    "df_opp=df_final.copy()\n",
    "df_tm=df_final.copy()"
   ],
   "outputs": [],
   "execution_count": 34
  },
  {
   "cell_type": "code",
   "id": "4f2b35d5",
   "metadata": {
    "ExecuteTime": {
     "end_time": "2024-09-11T00:49:41.582095Z",
     "start_time": "2024-09-11T00:49:41.579632Z"
    }
   },
   "source": [
    "columns_to_rename = ['Edad', 'Pos.', 'Ass', 'TPint', 'PrgC', 'PrgP', '% de TT',\n",
    "       'Dist', '% Cmp', 'Dist. tot.', 'TklG', 'Int', 'Err', 'RL', 'PG', 'PE',\n",
    "       'PP', 'GF', 'GC', 'xG', 'xGA', 'Últimos 5',\n",
    "       'Máximo Goleador del Equipo']\n",
    "new_column_names_tm = [f\"{col}(tm)\" for col in columns_to_rename]\n",
    "df_tm.rename(columns=dict(zip(columns_to_rename, new_column_names_tm)), inplace=True)"
   ],
   "outputs": [],
   "execution_count": 35
  },
  {
   "cell_type": "code",
   "id": "392babf1",
   "metadata": {
    "ExecuteTime": {
     "end_time": "2024-09-11T00:49:41.859502Z",
     "start_time": "2024-09-11T00:49:41.857209Z"
    }
   },
   "source": [
    "columns_to_rename = ['Edad', 'Pos.', 'Ass', 'TPint', 'PrgC', 'PrgP', '% de TT',\n",
    "       'Dist', '% Cmp', 'Dist. tot.', 'TklG', 'Int', 'Err', 'RL', 'PG', 'PE',\n",
    "       'PP', 'GF', 'GC', 'xG', 'xGA', 'Últimos 5',\n",
    "       'Máximo Goleador del Equipo']\n",
    "new_column_names_opp = [f\"{col}(opp)\" for col in columns_to_rename]\n",
    "df_opp.rename(columns=dict(zip(columns_to_rename, new_column_names_opp)), inplace=True)"
   ],
   "outputs": [],
   "execution_count": 36
  },
  {
   "cell_type": "code",
   "id": "dd50ee01",
   "metadata": {
    "ExecuteTime": {
     "end_time": "2024-09-11T00:49:42.137927Z",
     "start_time": "2024-09-11T00:49:42.134381Z"
    }
   },
   "source": [
    "df = pd.merge(df, df_opp, left_on='Adversario', right_on='Equipo', how='left')"
   ],
   "outputs": [],
   "execution_count": 37
  },
  {
   "cell_type": "code",
   "id": "c76f908c",
   "metadata": {
    "ExecuteTime": {
     "end_time": "2024-09-11T00:49:42.490994Z",
     "start_time": "2024-09-11T00:49:42.487402Z"
    }
   },
   "source": [
    "df = pd.merge(df, df_tm, left_on='Anfitrion', right_on='Equipo', how='left')"
   ],
   "outputs": [],
   "execution_count": 38
  },
  {
   "cell_type": "code",
   "id": "4cce1ac6",
   "metadata": {
    "ExecuteTime": {
     "end_time": "2024-09-11T00:49:42.809322Z",
     "start_time": "2024-09-11T00:49:42.806560Z"
    }
   },
   "source": [
    "df=df.drop(['Equipo_x','Equipo_y'],axis=1)"
   ],
   "outputs": [],
   "execution_count": 39
  },
  {
   "cell_type": "code",
   "id": "9318f3da",
   "metadata": {
    "ExecuteTime": {
     "end_time": "2024-09-11T00:49:43.162962Z",
     "start_time": "2024-09-11T00:49:43.154769Z"
    }
   },
   "source": [
    "df.head()"
   ],
   "outputs": [
    {
     "data": {
      "text/plain": [
       "        Fecha  Día  Sedes  Resultado  GF  GC  Adversario Formación  \\\n",
       "0  2023-08-13    7      0          2   0   0      Getafe   4-2-3-1   \n",
       "1  2023-08-20    7      1          3   2   0       Cádiz     3-4-3   \n",
       "2  2023-08-27    7      0          3   4   3  Villarreal     4-3-3   \n",
       "3  2023-09-03    7      0          3   2   1     Osasuna     4-3-3   \n",
       "4  2023-09-16    6      1          3   5   0       Betis     4-3-3   \n",
       "\n",
       "                    Árbitro  Anfitrion  ...  RL(tm)  PG(tm)  PE(tm)  PP(tm)  \\\n",
       "0                César Soto  Barcelona  ...       1       4       0       0   \n",
       "1           Alejandro Muñíz  Barcelona  ...       1       4       0       0   \n",
       "2       Alejandro Hernández  Barcelona  ...       1       4       0       0   \n",
       "3  Miguel Ángel Ortiz Arias  Barcelona  ...       1       4       0       0   \n",
       "4              José Sánchez  Barcelona  ...       1       4       0       0   \n",
       "\n",
       "   GF(tm)  GC(tm)  xG(tm)  xGA(tm)  Últimos 5(tm)  \\\n",
       "0      13       3    11.1      2.9             12   \n",
       "1      13       3    11.1      2.9             12   \n",
       "2      13       3    11.1      2.9             12   \n",
       "3      13       3    11.1      2.9             12   \n",
       "4      13       3    11.1      2.9             12   \n",
       "\n",
       "   Máximo Goleador del Equipo(tm)  \n",
       "0                               4  \n",
       "1                               4  \n",
       "2                               4  \n",
       "3                               4  \n",
       "4                               4  \n",
       "\n",
       "[5 rows x 56 columns]"
      ],
      "text/html": [
       "<div>\n",
       "<style scoped>\n",
       "    .dataframe tbody tr th:only-of-type {\n",
       "        vertical-align: middle;\n",
       "    }\n",
       "\n",
       "    .dataframe tbody tr th {\n",
       "        vertical-align: top;\n",
       "    }\n",
       "\n",
       "    .dataframe thead th {\n",
       "        text-align: right;\n",
       "    }\n",
       "</style>\n",
       "<table border=\"1\" class=\"dataframe\">\n",
       "  <thead>\n",
       "    <tr style=\"text-align: right;\">\n",
       "      <th></th>\n",
       "      <th>Fecha</th>\n",
       "      <th>Día</th>\n",
       "      <th>Sedes</th>\n",
       "      <th>Resultado</th>\n",
       "      <th>GF</th>\n",
       "      <th>GC</th>\n",
       "      <th>Adversario</th>\n",
       "      <th>Formación</th>\n",
       "      <th>Árbitro</th>\n",
       "      <th>Anfitrion</th>\n",
       "      <th>...</th>\n",
       "      <th>RL(tm)</th>\n",
       "      <th>PG(tm)</th>\n",
       "      <th>PE(tm)</th>\n",
       "      <th>PP(tm)</th>\n",
       "      <th>GF(tm)</th>\n",
       "      <th>GC(tm)</th>\n",
       "      <th>xG(tm)</th>\n",
       "      <th>xGA(tm)</th>\n",
       "      <th>Últimos 5(tm)</th>\n",
       "      <th>Máximo Goleador del Equipo(tm)</th>\n",
       "    </tr>\n",
       "  </thead>\n",
       "  <tbody>\n",
       "    <tr>\n",
       "      <th>0</th>\n",
       "      <td>2023-08-13</td>\n",
       "      <td>7</td>\n",
       "      <td>0</td>\n",
       "      <td>2</td>\n",
       "      <td>0</td>\n",
       "      <td>0</td>\n",
       "      <td>Getafe</td>\n",
       "      <td>4-2-3-1</td>\n",
       "      <td>César Soto</td>\n",
       "      <td>Barcelona</td>\n",
       "      <td>...</td>\n",
       "      <td>1</td>\n",
       "      <td>4</td>\n",
       "      <td>0</td>\n",
       "      <td>0</td>\n",
       "      <td>13</td>\n",
       "      <td>3</td>\n",
       "      <td>11.1</td>\n",
       "      <td>2.9</td>\n",
       "      <td>12</td>\n",
       "      <td>4</td>\n",
       "    </tr>\n",
       "    <tr>\n",
       "      <th>1</th>\n",
       "      <td>2023-08-20</td>\n",
       "      <td>7</td>\n",
       "      <td>1</td>\n",
       "      <td>3</td>\n",
       "      <td>2</td>\n",
       "      <td>0</td>\n",
       "      <td>Cádiz</td>\n",
       "      <td>3-4-3</td>\n",
       "      <td>Alejandro Muñíz</td>\n",
       "      <td>Barcelona</td>\n",
       "      <td>...</td>\n",
       "      <td>1</td>\n",
       "      <td>4</td>\n",
       "      <td>0</td>\n",
       "      <td>0</td>\n",
       "      <td>13</td>\n",
       "      <td>3</td>\n",
       "      <td>11.1</td>\n",
       "      <td>2.9</td>\n",
       "      <td>12</td>\n",
       "      <td>4</td>\n",
       "    </tr>\n",
       "    <tr>\n",
       "      <th>2</th>\n",
       "      <td>2023-08-27</td>\n",
       "      <td>7</td>\n",
       "      <td>0</td>\n",
       "      <td>3</td>\n",
       "      <td>4</td>\n",
       "      <td>3</td>\n",
       "      <td>Villarreal</td>\n",
       "      <td>4-3-3</td>\n",
       "      <td>Alejandro Hernández</td>\n",
       "      <td>Barcelona</td>\n",
       "      <td>...</td>\n",
       "      <td>1</td>\n",
       "      <td>4</td>\n",
       "      <td>0</td>\n",
       "      <td>0</td>\n",
       "      <td>13</td>\n",
       "      <td>3</td>\n",
       "      <td>11.1</td>\n",
       "      <td>2.9</td>\n",
       "      <td>12</td>\n",
       "      <td>4</td>\n",
       "    </tr>\n",
       "    <tr>\n",
       "      <th>3</th>\n",
       "      <td>2023-09-03</td>\n",
       "      <td>7</td>\n",
       "      <td>0</td>\n",
       "      <td>3</td>\n",
       "      <td>2</td>\n",
       "      <td>1</td>\n",
       "      <td>Osasuna</td>\n",
       "      <td>4-3-3</td>\n",
       "      <td>Miguel Ángel Ortiz Arias</td>\n",
       "      <td>Barcelona</td>\n",
       "      <td>...</td>\n",
       "      <td>1</td>\n",
       "      <td>4</td>\n",
       "      <td>0</td>\n",
       "      <td>0</td>\n",
       "      <td>13</td>\n",
       "      <td>3</td>\n",
       "      <td>11.1</td>\n",
       "      <td>2.9</td>\n",
       "      <td>12</td>\n",
       "      <td>4</td>\n",
       "    </tr>\n",
       "    <tr>\n",
       "      <th>4</th>\n",
       "      <td>2023-09-16</td>\n",
       "      <td>6</td>\n",
       "      <td>1</td>\n",
       "      <td>3</td>\n",
       "      <td>5</td>\n",
       "      <td>0</td>\n",
       "      <td>Betis</td>\n",
       "      <td>4-3-3</td>\n",
       "      <td>José Sánchez</td>\n",
       "      <td>Barcelona</td>\n",
       "      <td>...</td>\n",
       "      <td>1</td>\n",
       "      <td>4</td>\n",
       "      <td>0</td>\n",
       "      <td>0</td>\n",
       "      <td>13</td>\n",
       "      <td>3</td>\n",
       "      <td>11.1</td>\n",
       "      <td>2.9</td>\n",
       "      <td>12</td>\n",
       "      <td>4</td>\n",
       "    </tr>\n",
       "  </tbody>\n",
       "</table>\n",
       "<p>5 rows × 56 columns</p>\n",
       "</div>"
      ]
     },
     "execution_count": 40,
     "metadata": {},
     "output_type": "execute_result"
    }
   ],
   "execution_count": 40
  },
  {
   "cell_type": "markdown",
   "id": "79c287fb",
   "metadata": {},
   "source": [
    "### Exportamos el archivo"
   ]
  },
  {
   "cell_type": "code",
   "id": "89bd6e00",
   "metadata": {
    "ExecuteTime": {
     "end_time": "2024-09-11T00:49:45.276222Z",
     "start_time": "2024-09-11T00:49:45.080074Z"
    }
   },
   "source": [
    "archivo_destino = \"laliga.csv\"\n",
    "\n",
    "# Escribe el dataframe en el archivo de destino\n",
    "df.to_excel(archivo_destino)"
   ],
   "outputs": [
    {
     "ename": "ModuleNotFoundError",
     "evalue": "No module named 'openpyxl'",
     "output_type": "error",
     "traceback": [
      "\u001B[0;31m---------------------------------------------------------------------------\u001B[0m",
      "\u001B[0;31mModuleNotFoundError\u001B[0m                       Traceback (most recent call last)",
      "Cell \u001B[0;32mIn[41], line 4\u001B[0m\n\u001B[1;32m      1\u001B[0m archivo_destino \u001B[38;5;241m=\u001B[39m \u001B[38;5;124m\"\u001B[39m\u001B[38;5;124mBarcelona_Dataset 2023-2024.xlsx\u001B[39m\u001B[38;5;124m\"\u001B[39m\n\u001B[1;32m      3\u001B[0m \u001B[38;5;66;03m# Escribe el dataframe en el archivo de destino\u001B[39;00m\n\u001B[0;32m----> 4\u001B[0m \u001B[43mdf\u001B[49m\u001B[38;5;241;43m.\u001B[39;49m\u001B[43mto_excel\u001B[49m\u001B[43m(\u001B[49m\u001B[43marchivo_destino\u001B[49m\u001B[43m)\u001B[49m\n",
      "File \u001B[0;32m~/Documents/PCyD/ProyectoFinalCD/.venv/lib/python3.11/site-packages/pandas/util/_decorators.py:333\u001B[0m, in \u001B[0;36mdeprecate_nonkeyword_arguments.<locals>.decorate.<locals>.wrapper\u001B[0;34m(*args, **kwargs)\u001B[0m\n\u001B[1;32m    327\u001B[0m \u001B[38;5;28;01mif\u001B[39;00m \u001B[38;5;28mlen\u001B[39m(args) \u001B[38;5;241m>\u001B[39m num_allow_args:\n\u001B[1;32m    328\u001B[0m     warnings\u001B[38;5;241m.\u001B[39mwarn(\n\u001B[1;32m    329\u001B[0m         msg\u001B[38;5;241m.\u001B[39mformat(arguments\u001B[38;5;241m=\u001B[39m_format_argument_list(allow_args)),\n\u001B[1;32m    330\u001B[0m         \u001B[38;5;167;01mFutureWarning\u001B[39;00m,\n\u001B[1;32m    331\u001B[0m         stacklevel\u001B[38;5;241m=\u001B[39mfind_stack_level(),\n\u001B[1;32m    332\u001B[0m     )\n\u001B[0;32m--> 333\u001B[0m \u001B[38;5;28;01mreturn\u001B[39;00m \u001B[43mfunc\u001B[49m\u001B[43m(\u001B[49m\u001B[38;5;241;43m*\u001B[39;49m\u001B[43margs\u001B[49m\u001B[43m,\u001B[49m\u001B[43m \u001B[49m\u001B[38;5;241;43m*\u001B[39;49m\u001B[38;5;241;43m*\u001B[39;49m\u001B[43mkwargs\u001B[49m\u001B[43m)\u001B[49m\n",
      "File \u001B[0;32m~/Documents/PCyD/ProyectoFinalCD/.venv/lib/python3.11/site-packages/pandas/core/generic.py:2417\u001B[0m, in \u001B[0;36mNDFrame.to_excel\u001B[0;34m(self, excel_writer, sheet_name, na_rep, float_format, columns, header, index, index_label, startrow, startcol, engine, merge_cells, inf_rep, freeze_panes, storage_options, engine_kwargs)\u001B[0m\n\u001B[1;32m   2404\u001B[0m \u001B[38;5;28;01mfrom\u001B[39;00m \u001B[38;5;21;01mpandas\u001B[39;00m\u001B[38;5;21;01m.\u001B[39;00m\u001B[38;5;21;01mio\u001B[39;00m\u001B[38;5;21;01m.\u001B[39;00m\u001B[38;5;21;01mformats\u001B[39;00m\u001B[38;5;21;01m.\u001B[39;00m\u001B[38;5;21;01mexcel\u001B[39;00m \u001B[38;5;28;01mimport\u001B[39;00m ExcelFormatter\n\u001B[1;32m   2406\u001B[0m formatter \u001B[38;5;241m=\u001B[39m ExcelFormatter(\n\u001B[1;32m   2407\u001B[0m     df,\n\u001B[1;32m   2408\u001B[0m     na_rep\u001B[38;5;241m=\u001B[39mna_rep,\n\u001B[0;32m   (...)\u001B[0m\n\u001B[1;32m   2415\u001B[0m     inf_rep\u001B[38;5;241m=\u001B[39minf_rep,\n\u001B[1;32m   2416\u001B[0m )\n\u001B[0;32m-> 2417\u001B[0m \u001B[43mformatter\u001B[49m\u001B[38;5;241;43m.\u001B[39;49m\u001B[43mwrite\u001B[49m\u001B[43m(\u001B[49m\n\u001B[1;32m   2418\u001B[0m \u001B[43m    \u001B[49m\u001B[43mexcel_writer\u001B[49m\u001B[43m,\u001B[49m\n\u001B[1;32m   2419\u001B[0m \u001B[43m    \u001B[49m\u001B[43msheet_name\u001B[49m\u001B[38;5;241;43m=\u001B[39;49m\u001B[43msheet_name\u001B[49m\u001B[43m,\u001B[49m\n\u001B[1;32m   2420\u001B[0m \u001B[43m    \u001B[49m\u001B[43mstartrow\u001B[49m\u001B[38;5;241;43m=\u001B[39;49m\u001B[43mstartrow\u001B[49m\u001B[43m,\u001B[49m\n\u001B[1;32m   2421\u001B[0m \u001B[43m    \u001B[49m\u001B[43mstartcol\u001B[49m\u001B[38;5;241;43m=\u001B[39;49m\u001B[43mstartcol\u001B[49m\u001B[43m,\u001B[49m\n\u001B[1;32m   2422\u001B[0m \u001B[43m    \u001B[49m\u001B[43mfreeze_panes\u001B[49m\u001B[38;5;241;43m=\u001B[39;49m\u001B[43mfreeze_panes\u001B[49m\u001B[43m,\u001B[49m\n\u001B[1;32m   2423\u001B[0m \u001B[43m    \u001B[49m\u001B[43mengine\u001B[49m\u001B[38;5;241;43m=\u001B[39;49m\u001B[43mengine\u001B[49m\u001B[43m,\u001B[49m\n\u001B[1;32m   2424\u001B[0m \u001B[43m    \u001B[49m\u001B[43mstorage_options\u001B[49m\u001B[38;5;241;43m=\u001B[39;49m\u001B[43mstorage_options\u001B[49m\u001B[43m,\u001B[49m\n\u001B[1;32m   2425\u001B[0m \u001B[43m    \u001B[49m\u001B[43mengine_kwargs\u001B[49m\u001B[38;5;241;43m=\u001B[39;49m\u001B[43mengine_kwargs\u001B[49m\u001B[43m,\u001B[49m\n\u001B[1;32m   2426\u001B[0m \u001B[43m\u001B[49m\u001B[43m)\u001B[49m\n",
      "File \u001B[0;32m~/Documents/PCyD/ProyectoFinalCD/.venv/lib/python3.11/site-packages/pandas/io/formats/excel.py:943\u001B[0m, in \u001B[0;36mExcelFormatter.write\u001B[0;34m(self, writer, sheet_name, startrow, startcol, freeze_panes, engine, storage_options, engine_kwargs)\u001B[0m\n\u001B[1;32m    941\u001B[0m     need_save \u001B[38;5;241m=\u001B[39m \u001B[38;5;28;01mFalse\u001B[39;00m\n\u001B[1;32m    942\u001B[0m \u001B[38;5;28;01melse\u001B[39;00m:\n\u001B[0;32m--> 943\u001B[0m     writer \u001B[38;5;241m=\u001B[39m \u001B[43mExcelWriter\u001B[49m\u001B[43m(\u001B[49m\n\u001B[1;32m    944\u001B[0m \u001B[43m        \u001B[49m\u001B[43mwriter\u001B[49m\u001B[43m,\u001B[49m\n\u001B[1;32m    945\u001B[0m \u001B[43m        \u001B[49m\u001B[43mengine\u001B[49m\u001B[38;5;241;43m=\u001B[39;49m\u001B[43mengine\u001B[49m\u001B[43m,\u001B[49m\n\u001B[1;32m    946\u001B[0m \u001B[43m        \u001B[49m\u001B[43mstorage_options\u001B[49m\u001B[38;5;241;43m=\u001B[39;49m\u001B[43mstorage_options\u001B[49m\u001B[43m,\u001B[49m\n\u001B[1;32m    947\u001B[0m \u001B[43m        \u001B[49m\u001B[43mengine_kwargs\u001B[49m\u001B[38;5;241;43m=\u001B[39;49m\u001B[43mengine_kwargs\u001B[49m\u001B[43m,\u001B[49m\n\u001B[1;32m    948\u001B[0m \u001B[43m    \u001B[49m\u001B[43m)\u001B[49m\n\u001B[1;32m    949\u001B[0m     need_save \u001B[38;5;241m=\u001B[39m \u001B[38;5;28;01mTrue\u001B[39;00m\n\u001B[1;32m    951\u001B[0m \u001B[38;5;28;01mtry\u001B[39;00m:\n",
      "File \u001B[0;32m~/Documents/PCyD/ProyectoFinalCD/.venv/lib/python3.11/site-packages/pandas/io/excel/_openpyxl.py:57\u001B[0m, in \u001B[0;36mOpenpyxlWriter.__init__\u001B[0;34m(self, path, engine, date_format, datetime_format, mode, storage_options, if_sheet_exists, engine_kwargs, **kwargs)\u001B[0m\n\u001B[1;32m     44\u001B[0m \u001B[38;5;28;01mdef\u001B[39;00m \u001B[38;5;21m__init__\u001B[39m(\n\u001B[1;32m     45\u001B[0m     \u001B[38;5;28mself\u001B[39m,\n\u001B[1;32m     46\u001B[0m     path: FilePath \u001B[38;5;241m|\u001B[39m WriteExcelBuffer \u001B[38;5;241m|\u001B[39m ExcelWriter,\n\u001B[0;32m   (...)\u001B[0m\n\u001B[1;32m     55\u001B[0m ) \u001B[38;5;241m-\u001B[39m\u001B[38;5;241m>\u001B[39m \u001B[38;5;28;01mNone\u001B[39;00m:\n\u001B[1;32m     56\u001B[0m     \u001B[38;5;66;03m# Use the openpyxl module as the Excel writer.\u001B[39;00m\n\u001B[0;32m---> 57\u001B[0m     \u001B[38;5;28;01mfrom\u001B[39;00m \u001B[38;5;21;01mopenpyxl\u001B[39;00m\u001B[38;5;21;01m.\u001B[39;00m\u001B[38;5;21;01mworkbook\u001B[39;00m \u001B[38;5;28;01mimport\u001B[39;00m Workbook\n\u001B[1;32m     59\u001B[0m     engine_kwargs \u001B[38;5;241m=\u001B[39m combine_kwargs(engine_kwargs, kwargs)\n\u001B[1;32m     61\u001B[0m     \u001B[38;5;28msuper\u001B[39m()\u001B[38;5;241m.\u001B[39m\u001B[38;5;21m__init__\u001B[39m(\n\u001B[1;32m     62\u001B[0m         path,\n\u001B[1;32m     63\u001B[0m         mode\u001B[38;5;241m=\u001B[39mmode,\n\u001B[0;32m   (...)\u001B[0m\n\u001B[1;32m     66\u001B[0m         engine_kwargs\u001B[38;5;241m=\u001B[39mengine_kwargs,\n\u001B[1;32m     67\u001B[0m     )\n",
      "\u001B[0;31mModuleNotFoundError\u001B[0m: No module named 'openpyxl'"
     ]
    }
   ],
   "execution_count": 41
  },
  {
   "metadata": {},
   "cell_type": "code",
   "outputs": [],
   "execution_count": 40,
   "source": [
    "X=df[['Día','Sedes', 'GF', 'GC','Edad(opp)','Pos.(opp)', 'Ass(opp)', 'TPint(opp)', \n",
    "      'PrgC(opp)', 'PrgP(opp)','% de TT(opp)', 'Dist(opp)', '% Cmp(opp)', 'Dist. tot.(opp)','TklG(opp)', 'Int(opp)', \n",
    "      'Err(opp)', 'RL(opp)', 'PG(opp)', 'PE(opp)','PP(opp)', 'GF(opp)', 'GC(opp)', 'xG(opp)', 'xGA(opp)','Últimos 5(opp)', \n",
    "      'Máximo Goleador del Equipo(opp)', 'Edad(tm)', 'Pos.(tm)', 'Ass(tm)', 'TPint(tm)', 'PrgC(tm)', 'PrgP(tm)',\n",
    "      '% de TT(tm)', 'Dist(tm)', '% Cmp(tm)', 'Dist. tot.(tm)', 'TklG(tm)','Int(tm)', 'Err(tm)', 'RL(tm)', 'PG(tm)', \n",
    "      'PE(tm)', 'PP(tm)', 'GF(tm)','GC(tm)', 'xG(tm)', 'xGA(tm)', 'Últimos 5(tm)','Máximo Goleador del Equipo(tm)']]\n",
    "y=df['Resultado']"
   ],
   "id": "752b17a9"
  }
 ],
 "metadata": {
  "kernelspec": {
   "display_name": "Python 3 (ipykernel)",
   "language": "python",
   "name": "python3"
  },
  "language_info": {
   "codemirror_mode": {
    "name": "ipython",
    "version": 3
   },
   "file_extension": ".py",
   "mimetype": "text/x-python",
   "name": "python",
   "nbconvert_exporter": "python",
   "pygments_lexer": "ipython3",
   "version": "3.9.13"
  }
 },
 "nbformat": 4,
 "nbformat_minor": 5
}
