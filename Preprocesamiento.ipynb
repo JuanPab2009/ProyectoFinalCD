{
 "cells": [
  {
   "cell_type": "code",
   "execution_count": 1,
   "id": "65ad88ff",
   "metadata": {
    "ExecuteTime": {
     "end_time": "2024-09-11T00:48:40.924277Z",
     "start_time": "2024-09-11T00:48:38.209410Z"
    }
   },
   "outputs": [],
   "source": [
    "import pandas as pd\n",
    "import numpy as np\n",
    "from sklearn.preprocessing import LabelEncoder\n",
    "import re\n",
    "import os\n",
    "import openpyxl\n",
    "import matplotlib.pyplot as plt\n",
    "import seaborn as sns \n",
    "import warnings\n",
    "warnings.filterwarnings(\"ignore\")\n",
    "%matplotlib inline\n",
    "plt.style.use('ggplot')\n",
    "\n",
    "warnings.filterwarnings(\"ignore\")\n",
    "\n",
    "#import graphviz \n",
    "from sklearn.datasets import make_classification\n",
    "\n",
    "%matplotlib inline\n",
    "plt.style.use('ggplot')"
   ]
  },
  {
   "cell_type": "code",
   "execution_count": null,
   "id": "f94d9cff",
   "metadata": {},
   "outputs": [],
   "source": [
    "# comando para activar el ambiente virtual\n",
    "# env/bin/activate"
   ]
  },
  {
   "cell_type": "code",
   "execution_count": 3,
   "id": "1be2ea42",
   "metadata": {
    "ExecuteTime": {
     "end_time": "2024-09-11T00:49:22.963386Z",
     "start_time": "2024-09-11T00:49:21.003556Z"
    }
   },
   "outputs": [],
   "source": [
    "url= \"https://fbref.com/es/equipos/206d90db/2023-2024/partidos/c12/schedule/Resultados-y-partidos-de-Barcelona-La-Liga\"\n",
    "tables = pd.read_html(url)\n",
    "df = tables[0]"
   ]
  },
  {
   "cell_type": "code",
   "execution_count": 4,
   "id": "96eb0ba1",
   "metadata": {
    "ExecuteTime": {
     "end_time": "2024-09-11T00:49:24.533380Z",
     "start_time": "2024-09-11T00:49:24.530583Z"
    }
   },
   "outputs": [],
   "source": [
    "df=df[['Fecha','Día','Sedes', 'Resultado', 'GF', 'GC','Adversario','Formación','Árbitro']]"
   ]
  },
  {
   "cell_type": "code",
   "execution_count": 5,
   "id": "7e245289",
   "metadata": {
    "ExecuteTime": {
     "end_time": "2024-09-11T00:49:25.267415Z",
     "start_time": "2024-09-11T00:49:25.263958Z"
    }
   },
   "outputs": [],
   "source": [
    "df = df.dropna(subset=['Resultado'])"
   ]
  },
  {
   "cell_type": "code",
   "execution_count": 6,
   "id": "2ab6f2f5",
   "metadata": {
    "ExecuteTime": {
     "end_time": "2024-09-11T00:49:25.673021Z",
     "start_time": "2024-09-11T00:49:25.670407Z"
    }
   },
   "outputs": [],
   "source": [
    "df['Día'] = df['Día'].replace({'Sáb':6,'Dom':7,'Lun':1,'Mar':2,'Mié':3,'Jue':4,'Vie':5})\n",
    "df['Resultado'] = df['Resultado'].replace({'V':3,'E':2,'D':1})\n",
    "df['Sedes'] = df['Sedes'].replace({'Local':1,'Visitante':0})"
   ]
  },
  {
   "cell_type": "code",
   "execution_count": 7,
   "id": "d3cd0deb",
   "metadata": {
    "ExecuteTime": {
     "end_time": "2024-09-11T00:49:26.112106Z",
     "start_time": "2024-09-11T00:49:26.109752Z"
    }
   },
   "outputs": [],
   "source": [
    "df['Anfitrion']='Barcelona'"
   ]
  },
  {
   "cell_type": "markdown",
   "id": "967b2993",
   "metadata": {},
   "source": [
    "### Estadisticas básicas"
   ]
  },
  {
   "cell_type": "code",
   "execution_count": 8,
   "id": "6d8dcc0c",
   "metadata": {
    "ExecuteTime": {
     "end_time": "2024-09-11T00:49:27.476753Z",
     "start_time": "2024-09-11T00:49:27.064141Z"
    }
   },
   "outputs": [],
   "source": [
    "url= \"https://fbref.com/es/comps/12/Estadisticas-de-La-Liga\"\n",
    "tables = pd.read_html(url)\n",
    "df_basic = tables[0]"
   ]
  },
  {
   "cell_type": "code",
   "execution_count": 9,
   "id": "4851c207",
   "metadata": {
    "ExecuteTime": {
     "end_time": "2024-09-11T00:49:27.481996Z",
     "start_time": "2024-09-11T00:49:27.480237Z"
    }
   },
   "outputs": [],
   "source": [
    "df_basic=df_basic[['RL','Equipo','PG','PE', 'PP','GF','GC', 'xG', 'xGA','Últimos 5','Máximo Goleador del Equipo']]"
   ]
  },
  {
   "cell_type": "code",
   "execution_count": 10,
   "id": "5fe3ec33",
   "metadata": {
    "ExecuteTime": {
     "end_time": "2024-09-11T00:49:29.133329Z",
     "start_time": "2024-09-11T00:49:29.130943Z"
    }
   },
   "outputs": [],
   "source": [
    "df_basic['Máximo Goleador del Equipo'] = df_basic['Máximo Goleador del Equipo'].apply(lambda x: int(re.search(r'\\b(\\d+)\\b', x).group(1)) if re.search(r'\\b(\\d+)\\b', x) else None)\n",
    "\n",
    "df_basic['Últimos 5'] = df_basic['Últimos 5'].apply(lambda resultados: sum([3 if resultado == 'PG' else (1 if resultado == 'PE' else 0) for resultado in resultados.split()]))\n"
   ]
  },
  {
   "cell_type": "markdown",
   "id": "c2597b17",
   "metadata": {},
   "source": [
    "### Estadisticas de Ofensiva"
   ]
  },
  {
   "cell_type": "code",
   "execution_count": 11,
   "id": "8c494cb0",
   "metadata": {
    "ExecuteTime": {
     "end_time": "2024-09-11T00:49:30.519896Z",
     "start_time": "2024-09-11T00:49:30.107874Z"
    }
   },
   "outputs": [],
   "source": [
    "url= \"https://fbref.com/es/comps/12/Estadisticas-de-La-Liga\"\n",
    "tables = pd.read_html(url)\n",
    "df_ataque = tables[2]"
   ]
  },
  {
   "cell_type": "code",
   "execution_count": 12,
   "id": "ce6446f9",
   "metadata": {
    "ExecuteTime": {
     "end_time": "2024-09-11T00:49:30.648028Z",
     "start_time": "2024-09-11T00:49:30.644771Z"
    }
   },
   "outputs": [],
   "source": [
    "df_ataque = df_ataque.drop([\"Tiempo Jugado\",\"Expectativa\",'Por 90 Minutos'],axis=1)"
   ]
  },
  {
   "cell_type": "code",
   "execution_count": 13,
   "id": "81bbfe79",
   "metadata": {
    "ExecuteTime": {
     "end_time": "2024-09-11T00:49:31.188480Z",
     "start_time": "2024-09-11T00:49:31.186780Z"
    }
   },
   "outputs": [],
   "source": [
    "df_ataque.columns = df_ataque.columns.droplevel(level=0)"
   ]
  },
  {
   "cell_type": "code",
   "execution_count": 14,
   "id": "dba091f1",
   "metadata": {
    "ExecuteTime": {
     "end_time": "2024-09-11T00:49:31.630163Z",
     "start_time": "2024-09-11T00:49:31.628099Z"
    }
   },
   "outputs": [],
   "source": [
    "df_ataque=df_ataque[['Equipo', 'Edad', 'Pos.','Ass','TPint', 'PrgC', 'PrgP']]"
   ]
  },
  {
   "cell_type": "markdown",
   "id": "26578114",
   "metadata": {},
   "source": [
    "##### Disparos"
   ]
  },
  {
   "cell_type": "code",
   "execution_count": 15,
   "id": "740c7bc0",
   "metadata": {
    "ExecuteTime": {
     "end_time": "2024-09-11T00:49:32.956267Z",
     "start_time": "2024-09-11T00:49:32.483693Z"
    }
   },
   "outputs": [],
   "source": [
    "url= \"https://fbref.com/es/comps/12/Estadisticas-de-La-Liga\"\n",
    "tables = pd.read_html(url)\n",
    "df_disparos = tables[8]"
   ]
  },
  {
   "cell_type": "code",
   "execution_count": 16,
   "id": "5029ba68",
   "metadata": {
    "ExecuteTime": {
     "end_time": "2024-09-11T00:49:33.025822Z",
     "start_time": "2024-09-11T00:49:33.024322Z"
    }
   },
   "outputs": [],
   "source": [
    "df_disparos.columns=df_disparos.columns.droplevel(level=0)"
   ]
  },
  {
   "cell_type": "code",
   "execution_count": 17,
   "id": "9e224f9c",
   "metadata": {
    "ExecuteTime": {
     "end_time": "2024-09-11T00:49:33.524628Z",
     "start_time": "2024-09-11T00:49:33.522626Z"
    }
   },
   "outputs": [],
   "source": [
    "df_disparos=df_disparos[['Equipo', '% de TT','Dist']]"
   ]
  },
  {
   "cell_type": "code",
   "execution_count": 18,
   "id": "6864511f",
   "metadata": {
    "ExecuteTime": {
     "end_time": "2024-09-11T00:49:33.954861Z",
     "start_time": "2024-09-11T00:49:33.951464Z"
    }
   },
   "outputs": [],
   "source": [
    "df_ataque = pd.merge(df_ataque, df_disparos, left_on='Equipo', right_on='Equipo', how='left')"
   ]
  },
  {
   "cell_type": "markdown",
   "id": "50f331d3",
   "metadata": {},
   "source": [
    "##### Pases"
   ]
  },
  {
   "cell_type": "code",
   "execution_count": 19,
   "id": "a4a9ae46",
   "metadata": {
    "ExecuteTime": {
     "end_time": "2024-09-11T00:49:35.207527Z",
     "start_time": "2024-09-11T00:49:34.773945Z"
    }
   },
   "outputs": [],
   "source": [
    "url= \"https://fbref.com/es/comps/12/Estadisticas-de-La-Liga\"\n",
    "tables = pd.read_html(url)\n",
    "df_pases = tables[10]"
   ]
  },
  {
   "cell_type": "code",
   "execution_count": 20,
   "id": "bbc591c8",
   "metadata": {
    "ExecuteTime": {
     "end_time": "2024-09-11T00:49:35.264981Z",
     "start_time": "2024-09-11T00:49:35.262719Z"
    }
   },
   "outputs": [],
   "source": [
    "df_pases = df_pases.drop([\"Cortos\",\"Medios\",'Largos','Expectativa'],axis=1)"
   ]
  },
  {
   "cell_type": "code",
   "execution_count": 21,
   "id": "882ba897",
   "metadata": {
    "ExecuteTime": {
     "end_time": "2024-09-11T00:49:35.651131Z",
     "start_time": "2024-09-11T00:49:35.649229Z"
    }
   },
   "outputs": [],
   "source": [
    "df_pases.columns=df_pases.columns.droplevel(level=0)"
   ]
  },
  {
   "cell_type": "code",
   "execution_count": 22,
   "id": "8e16db16",
   "metadata": {
    "ExecuteTime": {
     "end_time": "2024-09-11T00:49:36.023505Z",
     "start_time": "2024-09-11T00:49:36.021401Z"
    }
   },
   "outputs": [],
   "source": [
    "df_pases=df_pases[['Equipo', '% Cmp','Dist. tot.']]"
   ]
  },
  {
   "cell_type": "code",
   "execution_count": 23,
   "id": "de02a405",
   "metadata": {
    "ExecuteTime": {
     "end_time": "2024-09-11T00:49:36.378925Z",
     "start_time": "2024-09-11T00:49:36.376142Z"
    }
   },
   "outputs": [],
   "source": [
    "df_ataque = pd.merge(df_ataque, df_pases, left_on='Equipo', right_on='Equipo', how='left')"
   ]
  },
  {
   "cell_type": "markdown",
   "id": "7887d25d",
   "metadata": {},
   "source": [
    "### Estadisticas de defensa"
   ]
  },
  {
   "cell_type": "code",
   "execution_count": 24,
   "id": "26c289f0",
   "metadata": {
    "ExecuteTime": {
     "end_time": "2024-09-11T00:49:37.875421Z",
     "start_time": "2024-09-11T00:49:37.447997Z"
    }
   },
   "outputs": [],
   "source": [
    "url= \"https://fbref.com/es/comps/12/Estadisticas-de-La-Liga\"\n",
    "tables = pd.read_html(url)\n",
    "df_porteria = tables[4]"
   ]
  },
  {
   "cell_type": "code",
   "execution_count": 25,
   "id": "d4d52594",
   "metadata": {
    "ExecuteTime": {
     "end_time": "2024-09-11T00:49:37.878055Z",
     "start_time": "2024-09-11T00:49:37.876182Z"
    }
   },
   "outputs": [],
   "source": [
    "df_porteria = df_porteria.drop([\"Tiempo Jugado\",\"Tiros penales\"],axis=1)"
   ]
  },
  {
   "cell_type": "code",
   "execution_count": 26,
   "id": "6ac34803",
   "metadata": {
    "ExecuteTime": {
     "end_time": "2024-09-11T00:49:38.394511Z",
     "start_time": "2024-09-11T00:49:38.392848Z"
    }
   },
   "outputs": [],
   "source": [
    "df_porteria.columns = df_porteria.columns.droplevel(level=0)"
   ]
  },
  {
   "cell_type": "code",
   "execution_count": 27,
   "id": "e43eb2b0",
   "metadata": {
    "ExecuteTime": {
     "end_time": "2024-09-11T00:49:38.803588Z",
     "start_time": "2024-09-11T00:49:38.801609Z"
    }
   },
   "outputs": [],
   "source": [
    "df_porteria=df_porteria[['Equipo', 'GC', 'DaPC', 'Salvadas','PaC']]"
   ]
  },
  {
   "cell_type": "code",
   "execution_count": 28,
   "id": "40a442ef",
   "metadata": {
    "ExecuteTime": {
     "end_time": "2024-09-11T00:49:39.584314Z",
     "start_time": "2024-09-11T00:49:39.157169Z"
    }
   },
   "outputs": [],
   "source": [
    "url= \"https://fbref.com/es/comps/12/Estadisticas-de-La-Liga\"\n",
    "tables = pd.read_html(url)\n",
    "df_defensa = tables[16]"
   ]
  },
  {
   "cell_type": "code",
   "execution_count": 29,
   "id": "2fd2767b",
   "metadata": {
    "ExecuteTime": {
     "end_time": "2024-09-11T00:49:39.688641Z",
     "start_time": "2024-09-11T00:49:39.686546Z"
    }
   },
   "outputs": [],
   "source": [
    "df_defensa = df_defensa.drop(['Desafíos'],axis=1)"
   ]
  },
  {
   "cell_type": "code",
   "execution_count": 30,
   "id": "c60e39a1",
   "metadata": {
    "ExecuteTime": {
     "end_time": "2024-09-11T00:49:40.154070Z",
     "start_time": "2024-09-11T00:49:40.152563Z"
    }
   },
   "outputs": [],
   "source": [
    "df_defensa.columns=df_defensa.columns.droplevel(level=0)"
   ]
  },
  {
   "cell_type": "code",
   "execution_count": 31,
   "id": "6863e599",
   "metadata": {
    "ExecuteTime": {
     "end_time": "2024-09-11T00:49:40.462591Z",
     "start_time": "2024-09-11T00:49:40.459406Z"
    }
   },
   "outputs": [],
   "source": [
    "df_defensa=df_defensa[['Equipo', 'TklG','Int','Err']]"
   ]
  },
  {
   "cell_type": "code",
   "execution_count": 32,
   "id": "4595f54c",
   "metadata": {
    "ExecuteTime": {
     "end_time": "2024-09-11T00:49:40.748359Z",
     "start_time": "2024-09-11T00:49:40.744926Z"
    }
   },
   "outputs": [],
   "source": [
    "df_final = pd.merge(df_ataque, df_defensa, left_on='Equipo', right_on='Equipo', how='left')"
   ]
  },
  {
   "cell_type": "code",
   "execution_count": 33,
   "id": "2c541054",
   "metadata": {
    "ExecuteTime": {
     "end_time": "2024-09-11T00:49:41.015607Z",
     "start_time": "2024-09-11T00:49:41.012109Z"
    }
   },
   "outputs": [],
   "source": [
    "df_final = pd.merge(df_final, df_basic, left_on='Equipo', right_on='Equipo', how='left')"
   ]
  },
  {
   "cell_type": "code",
   "execution_count": 34,
   "id": "27805526",
   "metadata": {
    "ExecuteTime": {
     "end_time": "2024-09-11T00:49:41.298338Z",
     "start_time": "2024-09-11T00:49:41.296223Z"
    }
   },
   "outputs": [],
   "source": [
    "df_opp=df_final.copy()\n",
    "df_tm=df_final.copy()"
   ]
  },
  {
   "cell_type": "code",
   "execution_count": 35,
   "id": "4f2b35d5",
   "metadata": {
    "ExecuteTime": {
     "end_time": "2024-09-11T00:49:41.582095Z",
     "start_time": "2024-09-11T00:49:41.579632Z"
    }
   },
   "outputs": [],
   "source": [
    "columns_to_rename = ['Edad', 'Pos.', 'Ass', 'TPint', 'PrgC', 'PrgP', '% de TT',\n",
    "       'Dist', '% Cmp', 'Dist. tot.', 'TklG', 'Int', 'Err', 'RL', 'PG', 'PE',\n",
    "       'PP', 'GF', 'GC', 'xG', 'xGA', 'Últimos 5',\n",
    "       'Máximo Goleador del Equipo']\n",
    "new_column_names_tm = [f\"{col}(tm)\" for col in columns_to_rename]\n",
    "df_tm.rename(columns=dict(zip(columns_to_rename, new_column_names_tm)), inplace=True)"
   ]
  },
  {
   "cell_type": "code",
   "execution_count": 36,
   "id": "392babf1",
   "metadata": {
    "ExecuteTime": {
     "end_time": "2024-09-11T00:49:41.859502Z",
     "start_time": "2024-09-11T00:49:41.857209Z"
    }
   },
   "outputs": [],
   "source": [
    "columns_to_rename = ['Edad', 'Pos.', 'Ass', 'TPint', 'PrgC', 'PrgP', '% de TT',\n",
    "       'Dist', '% Cmp', 'Dist. tot.', 'TklG', 'Int', 'Err', 'RL', 'PG', 'PE',\n",
    "       'PP', 'GF', 'GC', 'xG', 'xGA', 'Últimos 5',\n",
    "       'Máximo Goleador del Equipo']\n",
    "new_column_names_opp = [f\"{col}(opp)\" for col in columns_to_rename]\n",
    "df_opp.rename(columns=dict(zip(columns_to_rename, new_column_names_opp)), inplace=True)"
   ]
  },
  {
   "cell_type": "code",
   "execution_count": 37,
   "id": "dd50ee01",
   "metadata": {
    "ExecuteTime": {
     "end_time": "2024-09-11T00:49:42.137927Z",
     "start_time": "2024-09-11T00:49:42.134381Z"
    }
   },
   "outputs": [],
   "source": [
    "df = pd.merge(df, df_opp, left_on='Adversario', right_on='Equipo', how='left')"
   ]
  },
  {
   "cell_type": "code",
   "execution_count": 38,
   "id": "c76f908c",
   "metadata": {
    "ExecuteTime": {
     "end_time": "2024-09-11T00:49:42.490994Z",
     "start_time": "2024-09-11T00:49:42.487402Z"
    }
   },
   "outputs": [],
   "source": [
    "df = pd.merge(df, df_tm, left_on='Anfitrion', right_on='Equipo', how='left')"
   ]
  },
  {
   "cell_type": "code",
   "execution_count": 39,
   "id": "4cce1ac6",
   "metadata": {
    "ExecuteTime": {
     "end_time": "2024-09-11T00:49:42.809322Z",
     "start_time": "2024-09-11T00:49:42.806560Z"
    }
   },
   "outputs": [],
   "source": [
    "df=df.drop(['Equipo_x','Equipo_y'],axis=1)"
   ]
  },
  {
   "cell_type": "code",
   "execution_count": 40,
   "id": "9318f3da",
   "metadata": {
    "ExecuteTime": {
     "end_time": "2024-09-11T00:49:43.162962Z",
     "start_time": "2024-09-11T00:49:43.154769Z"
    }
   },
   "outputs": [
    {
     "data": {
      "text/html": [
       "<div>\n",
       "<style scoped>\n",
       "    .dataframe tbody tr th:only-of-type {\n",
       "        vertical-align: middle;\n",
       "    }\n",
       "\n",
       "    .dataframe tbody tr th {\n",
       "        vertical-align: top;\n",
       "    }\n",
       "\n",
       "    .dataframe thead th {\n",
       "        text-align: right;\n",
       "    }\n",
       "</style>\n",
       "<table border=\"1\" class=\"dataframe\">\n",
       "  <thead>\n",
       "    <tr style=\"text-align: right;\">\n",
       "      <th></th>\n",
       "      <th>Fecha</th>\n",
       "      <th>Día</th>\n",
       "      <th>Sedes</th>\n",
       "      <th>Resultado</th>\n",
       "      <th>GF</th>\n",
       "      <th>GC</th>\n",
       "      <th>Adversario</th>\n",
       "      <th>Formación</th>\n",
       "      <th>Árbitro</th>\n",
       "      <th>Anfitrion</th>\n",
       "      <th>...</th>\n",
       "      <th>RL(tm)</th>\n",
       "      <th>PG(tm)</th>\n",
       "      <th>PE(tm)</th>\n",
       "      <th>PP(tm)</th>\n",
       "      <th>GF(tm)</th>\n",
       "      <th>GC(tm)</th>\n",
       "      <th>xG(tm)</th>\n",
       "      <th>xGA(tm)</th>\n",
       "      <th>Últimos 5(tm)</th>\n",
       "      <th>Máximo Goleador del Equipo(tm)</th>\n",
       "    </tr>\n",
       "  </thead>\n",
       "  <tbody>\n",
       "    <tr>\n",
       "      <th>0</th>\n",
       "      <td>2023-08-13</td>\n",
       "      <td>7</td>\n",
       "      <td>0</td>\n",
       "      <td>2</td>\n",
       "      <td>0</td>\n",
       "      <td>0</td>\n",
       "      <td>Getafe</td>\n",
       "      <td>4-2-3-1</td>\n",
       "      <td>César Soto</td>\n",
       "      <td>Barcelona</td>\n",
       "      <td>...</td>\n",
       "      <td>1</td>\n",
       "      <td>4</td>\n",
       "      <td>0</td>\n",
       "      <td>0</td>\n",
       "      <td>13</td>\n",
       "      <td>3</td>\n",
       "      <td>11.1</td>\n",
       "      <td>2.9</td>\n",
       "      <td>12</td>\n",
       "      <td>4</td>\n",
       "    </tr>\n",
       "    <tr>\n",
       "      <th>1</th>\n",
       "      <td>2023-08-20</td>\n",
       "      <td>7</td>\n",
       "      <td>1</td>\n",
       "      <td>3</td>\n",
       "      <td>2</td>\n",
       "      <td>0</td>\n",
       "      <td>Cádiz</td>\n",
       "      <td>3-4-3</td>\n",
       "      <td>Alejandro Muñíz</td>\n",
       "      <td>Barcelona</td>\n",
       "      <td>...</td>\n",
       "      <td>1</td>\n",
       "      <td>4</td>\n",
       "      <td>0</td>\n",
       "      <td>0</td>\n",
       "      <td>13</td>\n",
       "      <td>3</td>\n",
       "      <td>11.1</td>\n",
       "      <td>2.9</td>\n",
       "      <td>12</td>\n",
       "      <td>4</td>\n",
       "    </tr>\n",
       "    <tr>\n",
       "      <th>2</th>\n",
       "      <td>2023-08-27</td>\n",
       "      <td>7</td>\n",
       "      <td>0</td>\n",
       "      <td>3</td>\n",
       "      <td>4</td>\n",
       "      <td>3</td>\n",
       "      <td>Villarreal</td>\n",
       "      <td>4-3-3</td>\n",
       "      <td>Alejandro Hernández</td>\n",
       "      <td>Barcelona</td>\n",
       "      <td>...</td>\n",
       "      <td>1</td>\n",
       "      <td>4</td>\n",
       "      <td>0</td>\n",
       "      <td>0</td>\n",
       "      <td>13</td>\n",
       "      <td>3</td>\n",
       "      <td>11.1</td>\n",
       "      <td>2.9</td>\n",
       "      <td>12</td>\n",
       "      <td>4</td>\n",
       "    </tr>\n",
       "    <tr>\n",
       "      <th>3</th>\n",
       "      <td>2023-09-03</td>\n",
       "      <td>7</td>\n",
       "      <td>0</td>\n",
       "      <td>3</td>\n",
       "      <td>2</td>\n",
       "      <td>1</td>\n",
       "      <td>Osasuna</td>\n",
       "      <td>4-3-3</td>\n",
       "      <td>Miguel Ángel Ortiz Arias</td>\n",
       "      <td>Barcelona</td>\n",
       "      <td>...</td>\n",
       "      <td>1</td>\n",
       "      <td>4</td>\n",
       "      <td>0</td>\n",
       "      <td>0</td>\n",
       "      <td>13</td>\n",
       "      <td>3</td>\n",
       "      <td>11.1</td>\n",
       "      <td>2.9</td>\n",
       "      <td>12</td>\n",
       "      <td>4</td>\n",
       "    </tr>\n",
       "    <tr>\n",
       "      <th>4</th>\n",
       "      <td>2023-09-16</td>\n",
       "      <td>6</td>\n",
       "      <td>1</td>\n",
       "      <td>3</td>\n",
       "      <td>5</td>\n",
       "      <td>0</td>\n",
       "      <td>Betis</td>\n",
       "      <td>4-3-3</td>\n",
       "      <td>José Sánchez</td>\n",
       "      <td>Barcelona</td>\n",
       "      <td>...</td>\n",
       "      <td>1</td>\n",
       "      <td>4</td>\n",
       "      <td>0</td>\n",
       "      <td>0</td>\n",
       "      <td>13</td>\n",
       "      <td>3</td>\n",
       "      <td>11.1</td>\n",
       "      <td>2.9</td>\n",
       "      <td>12</td>\n",
       "      <td>4</td>\n",
       "    </tr>\n",
       "  </tbody>\n",
       "</table>\n",
       "<p>5 rows × 56 columns</p>\n",
       "</div>"
      ],
      "text/plain": [
       "        Fecha  Día  Sedes  Resultado  GF  GC  Adversario Formación  \\\n",
       "0  2023-08-13    7      0          2   0   0      Getafe   4-2-3-1   \n",
       "1  2023-08-20    7      1          3   2   0       Cádiz     3-4-3   \n",
       "2  2023-08-27    7      0          3   4   3  Villarreal     4-3-3   \n",
       "3  2023-09-03    7      0          3   2   1     Osasuna     4-3-3   \n",
       "4  2023-09-16    6      1          3   5   0       Betis     4-3-3   \n",
       "\n",
       "                    Árbitro  Anfitrion  ...  RL(tm)  PG(tm)  PE(tm)  PP(tm)  \\\n",
       "0                César Soto  Barcelona  ...       1       4       0       0   \n",
       "1           Alejandro Muñíz  Barcelona  ...       1       4       0       0   \n",
       "2       Alejandro Hernández  Barcelona  ...       1       4       0       0   \n",
       "3  Miguel Ángel Ortiz Arias  Barcelona  ...       1       4       0       0   \n",
       "4              José Sánchez  Barcelona  ...       1       4       0       0   \n",
       "\n",
       "   GF(tm)  GC(tm)  xG(tm)  xGA(tm)  Últimos 5(tm)  \\\n",
       "0      13       3    11.1      2.9             12   \n",
       "1      13       3    11.1      2.9             12   \n",
       "2      13       3    11.1      2.9             12   \n",
       "3      13       3    11.1      2.9             12   \n",
       "4      13       3    11.1      2.9             12   \n",
       "\n",
       "   Máximo Goleador del Equipo(tm)  \n",
       "0                               4  \n",
       "1                               4  \n",
       "2                               4  \n",
       "3                               4  \n",
       "4                               4  \n",
       "\n",
       "[5 rows x 56 columns]"
      ]
     },
     "execution_count": 40,
     "metadata": {},
     "output_type": "execute_result"
    }
   ],
   "source": [
    "df.head()"
   ]
  },
  {
   "cell_type": "markdown",
   "id": "79c287fb",
   "metadata": {},
   "source": [
    "### Exportamos el archivo"
   ]
  },
  {
   "cell_type": "code",
   "execution_count": 41,
   "id": "89bd6e00",
   "metadata": {
    "ExecuteTime": {
     "end_time": "2024-09-11T00:49:45.276222Z",
     "start_time": "2024-09-11T00:49:45.080074Z"
    }
   },
   "outputs": [
    {
     "ename": "ModuleNotFoundError",
     "evalue": "No module named 'openpyxl'",
     "output_type": "error",
     "traceback": [
      "\u001b[0;31m---------------------------------------------------------------------------\u001b[0m",
      "\u001b[0;31mModuleNotFoundError\u001b[0m                       Traceback (most recent call last)",
      "Cell \u001b[0;32mIn[41], line 4\u001b[0m\n\u001b[1;32m      1\u001b[0m archivo_destino \u001b[38;5;241m=\u001b[39m \u001b[38;5;124m\"\u001b[39m\u001b[38;5;124mBarcelona_Dataset 2023-2024.xlsx\u001b[39m\u001b[38;5;124m\"\u001b[39m\n\u001b[1;32m      3\u001b[0m \u001b[38;5;66;03m# Escribe el dataframe en el archivo de destino\u001b[39;00m\n\u001b[0;32m----> 4\u001b[0m \u001b[43mdf\u001b[49m\u001b[38;5;241;43m.\u001b[39;49m\u001b[43mto_excel\u001b[49m\u001b[43m(\u001b[49m\u001b[43marchivo_destino\u001b[49m\u001b[43m)\u001b[49m\n",
      "File \u001b[0;32m~/Documents/PCyD/ProyectoFinalCD/.venv/lib/python3.11/site-packages/pandas/util/_decorators.py:333\u001b[0m, in \u001b[0;36mdeprecate_nonkeyword_arguments.<locals>.decorate.<locals>.wrapper\u001b[0;34m(*args, **kwargs)\u001b[0m\n\u001b[1;32m    327\u001b[0m \u001b[38;5;28;01mif\u001b[39;00m \u001b[38;5;28mlen\u001b[39m(args) \u001b[38;5;241m>\u001b[39m num_allow_args:\n\u001b[1;32m    328\u001b[0m     warnings\u001b[38;5;241m.\u001b[39mwarn(\n\u001b[1;32m    329\u001b[0m         msg\u001b[38;5;241m.\u001b[39mformat(arguments\u001b[38;5;241m=\u001b[39m_format_argument_list(allow_args)),\n\u001b[1;32m    330\u001b[0m         \u001b[38;5;167;01mFutureWarning\u001b[39;00m,\n\u001b[1;32m    331\u001b[0m         stacklevel\u001b[38;5;241m=\u001b[39mfind_stack_level(),\n\u001b[1;32m    332\u001b[0m     )\n\u001b[0;32m--> 333\u001b[0m \u001b[38;5;28;01mreturn\u001b[39;00m \u001b[43mfunc\u001b[49m\u001b[43m(\u001b[49m\u001b[38;5;241;43m*\u001b[39;49m\u001b[43margs\u001b[49m\u001b[43m,\u001b[49m\u001b[43m \u001b[49m\u001b[38;5;241;43m*\u001b[39;49m\u001b[38;5;241;43m*\u001b[39;49m\u001b[43mkwargs\u001b[49m\u001b[43m)\u001b[49m\n",
      "File \u001b[0;32m~/Documents/PCyD/ProyectoFinalCD/.venv/lib/python3.11/site-packages/pandas/core/generic.py:2417\u001b[0m, in \u001b[0;36mNDFrame.to_excel\u001b[0;34m(self, excel_writer, sheet_name, na_rep, float_format, columns, header, index, index_label, startrow, startcol, engine, merge_cells, inf_rep, freeze_panes, storage_options, engine_kwargs)\u001b[0m\n\u001b[1;32m   2404\u001b[0m \u001b[38;5;28;01mfrom\u001b[39;00m \u001b[38;5;21;01mpandas\u001b[39;00m\u001b[38;5;21;01m.\u001b[39;00m\u001b[38;5;21;01mio\u001b[39;00m\u001b[38;5;21;01m.\u001b[39;00m\u001b[38;5;21;01mformats\u001b[39;00m\u001b[38;5;21;01m.\u001b[39;00m\u001b[38;5;21;01mexcel\u001b[39;00m \u001b[38;5;28;01mimport\u001b[39;00m ExcelFormatter\n\u001b[1;32m   2406\u001b[0m formatter \u001b[38;5;241m=\u001b[39m ExcelFormatter(\n\u001b[1;32m   2407\u001b[0m     df,\n\u001b[1;32m   2408\u001b[0m     na_rep\u001b[38;5;241m=\u001b[39mna_rep,\n\u001b[0;32m   (...)\u001b[0m\n\u001b[1;32m   2415\u001b[0m     inf_rep\u001b[38;5;241m=\u001b[39minf_rep,\n\u001b[1;32m   2416\u001b[0m )\n\u001b[0;32m-> 2417\u001b[0m \u001b[43mformatter\u001b[49m\u001b[38;5;241;43m.\u001b[39;49m\u001b[43mwrite\u001b[49m\u001b[43m(\u001b[49m\n\u001b[1;32m   2418\u001b[0m \u001b[43m    \u001b[49m\u001b[43mexcel_writer\u001b[49m\u001b[43m,\u001b[49m\n\u001b[1;32m   2419\u001b[0m \u001b[43m    \u001b[49m\u001b[43msheet_name\u001b[49m\u001b[38;5;241;43m=\u001b[39;49m\u001b[43msheet_name\u001b[49m\u001b[43m,\u001b[49m\n\u001b[1;32m   2420\u001b[0m \u001b[43m    \u001b[49m\u001b[43mstartrow\u001b[49m\u001b[38;5;241;43m=\u001b[39;49m\u001b[43mstartrow\u001b[49m\u001b[43m,\u001b[49m\n\u001b[1;32m   2421\u001b[0m \u001b[43m    \u001b[49m\u001b[43mstartcol\u001b[49m\u001b[38;5;241;43m=\u001b[39;49m\u001b[43mstartcol\u001b[49m\u001b[43m,\u001b[49m\n\u001b[1;32m   2422\u001b[0m \u001b[43m    \u001b[49m\u001b[43mfreeze_panes\u001b[49m\u001b[38;5;241;43m=\u001b[39;49m\u001b[43mfreeze_panes\u001b[49m\u001b[43m,\u001b[49m\n\u001b[1;32m   2423\u001b[0m \u001b[43m    \u001b[49m\u001b[43mengine\u001b[49m\u001b[38;5;241;43m=\u001b[39;49m\u001b[43mengine\u001b[49m\u001b[43m,\u001b[49m\n\u001b[1;32m   2424\u001b[0m \u001b[43m    \u001b[49m\u001b[43mstorage_options\u001b[49m\u001b[38;5;241;43m=\u001b[39;49m\u001b[43mstorage_options\u001b[49m\u001b[43m,\u001b[49m\n\u001b[1;32m   2425\u001b[0m \u001b[43m    \u001b[49m\u001b[43mengine_kwargs\u001b[49m\u001b[38;5;241;43m=\u001b[39;49m\u001b[43mengine_kwargs\u001b[49m\u001b[43m,\u001b[49m\n\u001b[1;32m   2426\u001b[0m \u001b[43m\u001b[49m\u001b[43m)\u001b[49m\n",
      "File \u001b[0;32m~/Documents/PCyD/ProyectoFinalCD/.venv/lib/python3.11/site-packages/pandas/io/formats/excel.py:943\u001b[0m, in \u001b[0;36mExcelFormatter.write\u001b[0;34m(self, writer, sheet_name, startrow, startcol, freeze_panes, engine, storage_options, engine_kwargs)\u001b[0m\n\u001b[1;32m    941\u001b[0m     need_save \u001b[38;5;241m=\u001b[39m \u001b[38;5;28;01mFalse\u001b[39;00m\n\u001b[1;32m    942\u001b[0m \u001b[38;5;28;01melse\u001b[39;00m:\n\u001b[0;32m--> 943\u001b[0m     writer \u001b[38;5;241m=\u001b[39m \u001b[43mExcelWriter\u001b[49m\u001b[43m(\u001b[49m\n\u001b[1;32m    944\u001b[0m \u001b[43m        \u001b[49m\u001b[43mwriter\u001b[49m\u001b[43m,\u001b[49m\n\u001b[1;32m    945\u001b[0m \u001b[43m        \u001b[49m\u001b[43mengine\u001b[49m\u001b[38;5;241;43m=\u001b[39;49m\u001b[43mengine\u001b[49m\u001b[43m,\u001b[49m\n\u001b[1;32m    946\u001b[0m \u001b[43m        \u001b[49m\u001b[43mstorage_options\u001b[49m\u001b[38;5;241;43m=\u001b[39;49m\u001b[43mstorage_options\u001b[49m\u001b[43m,\u001b[49m\n\u001b[1;32m    947\u001b[0m \u001b[43m        \u001b[49m\u001b[43mengine_kwargs\u001b[49m\u001b[38;5;241;43m=\u001b[39;49m\u001b[43mengine_kwargs\u001b[49m\u001b[43m,\u001b[49m\n\u001b[1;32m    948\u001b[0m \u001b[43m    \u001b[49m\u001b[43m)\u001b[49m\n\u001b[1;32m    949\u001b[0m     need_save \u001b[38;5;241m=\u001b[39m \u001b[38;5;28;01mTrue\u001b[39;00m\n\u001b[1;32m    951\u001b[0m \u001b[38;5;28;01mtry\u001b[39;00m:\n",
      "File \u001b[0;32m~/Documents/PCyD/ProyectoFinalCD/.venv/lib/python3.11/site-packages/pandas/io/excel/_openpyxl.py:57\u001b[0m, in \u001b[0;36mOpenpyxlWriter.__init__\u001b[0;34m(self, path, engine, date_format, datetime_format, mode, storage_options, if_sheet_exists, engine_kwargs, **kwargs)\u001b[0m\n\u001b[1;32m     44\u001b[0m \u001b[38;5;28;01mdef\u001b[39;00m \u001b[38;5;21m__init__\u001b[39m(\n\u001b[1;32m     45\u001b[0m     \u001b[38;5;28mself\u001b[39m,\n\u001b[1;32m     46\u001b[0m     path: FilePath \u001b[38;5;241m|\u001b[39m WriteExcelBuffer \u001b[38;5;241m|\u001b[39m ExcelWriter,\n\u001b[0;32m   (...)\u001b[0m\n\u001b[1;32m     55\u001b[0m ) \u001b[38;5;241m-\u001b[39m\u001b[38;5;241m>\u001b[39m \u001b[38;5;28;01mNone\u001b[39;00m:\n\u001b[1;32m     56\u001b[0m     \u001b[38;5;66;03m# Use the openpyxl module as the Excel writer.\u001b[39;00m\n\u001b[0;32m---> 57\u001b[0m     \u001b[38;5;28;01mfrom\u001b[39;00m \u001b[38;5;21;01mopenpyxl\u001b[39;00m\u001b[38;5;21;01m.\u001b[39;00m\u001b[38;5;21;01mworkbook\u001b[39;00m \u001b[38;5;28;01mimport\u001b[39;00m Workbook\n\u001b[1;32m     59\u001b[0m     engine_kwargs \u001b[38;5;241m=\u001b[39m combine_kwargs(engine_kwargs, kwargs)\n\u001b[1;32m     61\u001b[0m     \u001b[38;5;28msuper\u001b[39m()\u001b[38;5;241m.\u001b[39m\u001b[38;5;21m__init__\u001b[39m(\n\u001b[1;32m     62\u001b[0m         path,\n\u001b[1;32m     63\u001b[0m         mode\u001b[38;5;241m=\u001b[39mmode,\n\u001b[0;32m   (...)\u001b[0m\n\u001b[1;32m     66\u001b[0m         engine_kwargs\u001b[38;5;241m=\u001b[39mengine_kwargs,\n\u001b[1;32m     67\u001b[0m     )\n",
      "\u001b[0;31mModuleNotFoundError\u001b[0m: No module named 'openpyxl'"
     ]
    }
   ],
   "source": [
    "archivo_destino = \"laliga.csv\"\n",
    "\n",
    "# Escribe el dataframe en el archivo de destino\n",
    "df.to_excel(archivo_destino)"
   ]
  },
  {
   "cell_type": "code",
   "execution_count": 40,
   "id": "752b17a9",
   "metadata": {},
   "outputs": [],
   "source": [
    "X=df[['Día','Sedes', 'GF', 'GC','Edad(opp)','Pos.(opp)', 'Ass(opp)', 'TPint(opp)', \n",
    "      'PrgC(opp)', 'PrgP(opp)','% de TT(opp)', 'Dist(opp)', '% Cmp(opp)', 'Dist. tot.(opp)','TklG(opp)', 'Int(opp)', \n",
    "      'Err(opp)', 'RL(opp)', 'PG(opp)', 'PE(opp)','PP(opp)', 'GF(opp)', 'GC(opp)', 'xG(opp)', 'xGA(opp)','Últimos 5(opp)', \n",
    "      'Máximo Goleador del Equipo(opp)', 'Edad(tm)', 'Pos.(tm)', 'Ass(tm)', 'TPint(tm)', 'PrgC(tm)', 'PrgP(tm)',\n",
    "      '% de TT(tm)', 'Dist(tm)', '% Cmp(tm)', 'Dist. tot.(tm)', 'TklG(tm)','Int(tm)', 'Err(tm)', 'RL(tm)', 'PG(tm)', \n",
    "      'PE(tm)', 'PP(tm)', 'GF(tm)','GC(tm)', 'xG(tm)', 'xGA(tm)', 'Últimos 5(tm)','Máximo Goleador del Equipo(tm)']]\n",
    "y=df['Resultado']"
   ]
  }
 ],
 "metadata": {
  "kernelspec": {
   "display_name": "Python 3 (ipykernel)",
   "language": "python",
   "name": "python3"
  },
  "language_info": {
   "codemirror_mode": {
    "name": "ipython",
    "version": 3
   },
   "file_extension": ".py",
   "mimetype": "text/x-python",
   "name": "python",
   "nbconvert_exporter": "python",
   "pygments_lexer": "ipython3",
   "version": "3.11.8"
  }
 },
 "nbformat": 4,
 "nbformat_minor": 5
}
