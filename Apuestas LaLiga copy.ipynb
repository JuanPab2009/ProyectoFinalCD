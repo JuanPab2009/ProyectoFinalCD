{
 "cells": [
  {
   "cell_type": "code",
   "execution_count": 1,
   "id": "8a83f5a7",
   "metadata": {},
   "outputs": [],
   "source": [
    "import pandas as pd\n",
    "import numpy as np\n",
    "from sklearn.preprocessing import LabelEncoder\n",
    "import re\n",
    "import os\n",
    "import matplotlib.pyplot as plt\n",
    "from scipy.stats import norm\n",
    "from copy import deepcopy\n",
    "from sklearn import tree\n",
    "from sklearn.model_selection import train_test_split, StratifiedKFold, KFold\n",
    "from sklearn.linear_model import Lasso, LinearRegression\n",
    "from sklearn.metrics import mean_absolute_error, median_absolute_error, mean_absolute_percentage_error\n",
    "import warnings\n",
    "import pickle\n",
    "from pprint import pprint\n",
    "from sklearn.datasets import make_classification\n",
    "from sklearn.linear_model import LogisticRegression\n",
    "from sklearn.metrics import roc_auc_score\n",
    "import seaborn as sns \n",
    "from sklearn.model_selection import train_test_split\n",
    "import random\n",
    "\n",
    "from sklearn.metrics import make_scorer\n",
    "from sklearn.metrics import accuracy_score\n",
    "from sklearn.metrics import precision_score\n",
    "from sklearn.metrics import recall_score\n",
    "from sklearn.metrics import f1_score\n",
    "from sklearn.model_selection import cross_validate\n",
    "from sklearn.model_selection import KFold\n",
    "from sklearn.model_selection import GridSearchCV\n",
    "from sklearn.model_selection import cross_val_score\n",
    "from sklearn.preprocessing import MinMaxScaler\n",
    "\n",
    "from sklearn.svm import SVC\n",
    "from sklearn.tree import DecisionTreeClassifier\n",
    "from sklearn.ensemble import RandomForestClassifier\n",
    "import xgboost as xgb\n",
    "from sklearn.decomposition import PCA\n",
    "from sklearn.pipeline import make_pipeline\n",
    "from scipy.stats import norm\n",
    "from sklearn.linear_model import Lasso, LinearRegression\n",
    "from sklearn.metrics import mean_absolute_error, median_absolute_error, mean_absolute_percentage_error\n",
    "from sklearn.linear_model import LogisticRegression\n",
    "from sklearn.metrics import roc_auc_score\n",
    "import re\n",
    "import time\n",
    "import sys\n",
    "import seaborn as sns\n",
    "import warnings\n",
    "warnings.filterwarnings(\"ignore\")\n",
    "%matplotlib inline\n",
    "plt.style.use('ggplot')\n",
    "\n",
    "warnings.filterwarnings(\"ignore\")\n",
    "\n",
    "from sklearn.datasets import make_classification\n",
    "\n",
    "%matplotlib inline\n",
    "plt.style.use('ggplot')"
   ]
  },
  {
   "cell_type": "code",
   "execution_count": null,
   "id": "6eec3bf3",
   "metadata": {},
   "outputs": [],
   "source": [
    "df = pd.read_excel('LaLiga Dataset 2023-2024.xlsx')\n",
    "df.tail()"
   ]
  },
  {
   "cell_type": "code",
   "execution_count": null,
   "id": "e12a35ca",
   "metadata": {},
   "outputs": [],
   "source": [
    "df.shape"
   ]
  },
  {
   "cell_type": "code",
   "execution_count": 4,
   "id": "62a4a739",
   "metadata": {},
   "outputs": [],
   "source": [
    "X=df[['Día','Sedes','Edad(opp)','Pos.(opp)', 'Ass(opp)', 'TPint(opp)', \n",
    "      'PrgC(opp)', 'PrgP(opp)','% de TT(opp)', 'Dist(opp)', '% Cmp(opp)', 'Dist. tot.(opp)','TklG(opp)', 'Int(opp)', \n",
    "      'Err(opp)', 'RL(opp)', 'PG(opp)', 'PE(opp)','PP(opp)', 'GF(opp)', 'GC(opp)', 'xG(opp)', 'xGA(opp)','Últimos 5(opp)', \n",
    "      'Máximo Goleador del Equipo(opp)', 'Edad(tm)', 'Pos.(tm)', 'Ass(tm)', 'TPint(tm)', 'PrgC(tm)', 'PrgP(tm)',\n",
    "      '% de TT(tm)', 'Dist(tm)', '% Cmp(tm)', 'Dist. tot.(tm)', 'TklG(tm)','Int(tm)', 'Err(tm)', 'RL(tm)', 'PG(tm)', \n",
    "      'PE(tm)', 'PP(tm)', 'GF(tm)','GC(tm)', 'xG(tm)', 'xGA(tm)', 'Últimos 5(tm)','Máximo Goleador del Equipo(tm)']]\n",
    "y=df['Resultado']"
   ]
  },
  {
   "cell_type": "code",
   "execution_count": 5,
   "id": "b4c70878",
   "metadata": {},
   "outputs": [],
   "source": [
    "X_train, X_test, y_train, y_test = train_test_split(X, y, test_size=0.2, random_state=15)"
   ]
  },
  {
   "cell_type": "markdown",
   "id": "26344119",
   "metadata": {},
   "source": [
    "### Regresión logistica sin parametros"
   ]
  },
  {
   "cell_type": "code",
   "execution_count": null,
   "id": "99a22576",
   "metadata": {},
   "outputs": [],
   "source": [
    "logreg = LogisticRegression()\n",
    "logreg.fit(X_train, y_train)"
   ]
  },
  {
   "cell_type": "code",
   "execution_count": 7,
   "id": "e4fbd3ad",
   "metadata": {},
   "outputs": [],
   "source": [
    "y_pred = logreg.predict(X_test)"
   ]
  },
  {
   "cell_type": "code",
   "execution_count": null,
   "id": "66fbb072",
   "metadata": {},
   "outputs": [],
   "source": [
    "from sklearn.metrics import confusion_matrix\n",
    "cm = confusion_matrix(y_test, y_pred)\n",
    "plt.figure(figsize=(4, 4))\n",
    "sns.heatmap(cm, annot=True, fmt='.0f')\n",
    "plt.xlabel(\"Predicted Digits\")\n",
    "plt.ylabel(\"True Digits\")\n",
    "plt.show()"
   ]
  },
  {
   "cell_type": "code",
   "execution_count": null,
   "id": "07add517",
   "metadata": {},
   "outputs": [],
   "source": [
    "print('Accuracy de la regresión logística en los datos de test: {:.4f}'.format(logreg.score(X_test, y_test)))"
   ]
  },
  {
   "cell_type": "markdown",
   "id": "836ed496",
   "metadata": {},
   "source": [
    "### Sobremuestreo y escalamiento"
   ]
  },
  {
   "cell_type": "code",
   "execution_count": 10,
   "id": "72d1f7a6",
   "metadata": {},
   "outputs": [],
   "source": [
    "X_train_res, y_train_res = X_train, y_train"
   ]
  },
  {
   "cell_type": "code",
   "execution_count": 11,
   "id": "e196f6cd",
   "metadata": {},
   "outputs": [],
   "source": [
    "from sklearn.preprocessing import LabelEncoder\n",
    "from sklearn.preprocessing import StandardScaler\n",
    "from sklearn.model_selection import train_test_split\n",
    "from sklearn.model_selection import GridSearchCV"
   ]
  },
  {
   "cell_type": "code",
   "execution_count": 12,
   "id": "68489a93",
   "metadata": {},
   "outputs": [],
   "source": [
    "sc = StandardScaler()\n",
    "X_train_res = sc.fit_transform(X_train_res)\n",
    "X_test = sc.transform(X_test)"
   ]
  },
  {
   "cell_type": "code",
   "execution_count": 13,
   "id": "5578f782",
   "metadata": {},
   "outputs": [],
   "source": [
    "n_folds = 5\n",
    "seed = 7\n",
    "kfold = KFold(n_splits=n_folds, random_state=seed, shuffle=True)"
   ]
  },
  {
   "cell_type": "markdown",
   "id": "a1077cae",
   "metadata": {},
   "source": [
    "### Regresion logistica"
   ]
  },
  {
   "cell_type": "code",
   "execution_count": null,
   "id": "73506b12",
   "metadata": {},
   "outputs": [],
   "source": [
    "# crear modelo\n",
    "log_model = LogisticRegression()\n",
    "#Hacer el cross validation y probar con el train\n",
    "log_acc = cross_val_score(log_model, X_train_res, y_train_res, scoring='accuracy', cv=kfold)\n",
    "log_prec = cross_val_score(log_model, X_train_res, y_train_res, scoring='precision_weighted', cv=kfold)\n",
    "log_rec = cross_val_score(log_model, X_train_res, y_train_res, scoring='recall_weighted', cv=kfold)\n",
    "\n",
    "# Performance\n",
    "print('Accuracy: %.4f' % (np.mean(log_acc)))\n",
    "print('Precision: %.4f' % (np.mean(log_prec)))\n",
    "print('Recall: %.4f' % (np.mean(log_rec)))"
   ]
  },
  {
   "cell_type": "code",
   "execution_count": null,
   "id": "bb2d7a63",
   "metadata": {},
   "outputs": [],
   "source": [
    "log_model.fit(X_train_res,y_train_res)\n",
    "y_pred = log_model.predict(X_test)\n",
    "\n",
    "acc_lr=accuracy_score(y_test,y_pred)\n",
    "prec_lr=precision_score(y_test,y_pred,average='weighted')\n",
    "rec_lr=recall_score(y_test,y_pred,average='weighted')\n",
    "\n",
    "results_lr = pd.DataFrame([['Logistic regression', acc_lr,prec_lr,rec_lr]],columns=['Model', 'ACCURACY', 'PRECISION', 'RECALL'])\n",
    "results_lr"
   ]
  },
  {
   "cell_type": "markdown",
   "id": "70f80a2d",
   "metadata": {},
   "source": [
    "# SVC"
   ]
  },
  {
   "cell_type": "code",
   "execution_count": null,
   "id": "068b0da9",
   "metadata": {},
   "outputs": [],
   "source": [
    "from sklearn.decomposition import PCA\n",
    "from sklearn.svm import SVC\n",
    "from sklearn.model_selection import RandomizedSearchCV\n",
    "from sklearn.metrics import accuracy_score, precision_score, recall_score\n",
    "from scipy.stats import uniform\n",
    "\n",
    "# PCA\n",
    "pca = PCA(n_components=X_train_res.shape[1], whiten=True, random_state=42)\n",
    "X_train_pca = pca.fit_transform(X_train_res)\n",
    "X_test_pca = pca.transform(X_test)\n",
    "\n",
    "# Inicializar modelo SVC\n",
    "svc = SVC(kernel='rbf', class_weight='balanced')\n",
    "\n",
    "# Definir los hiperparámetros para la búsqueda aleatoria\n",
    "param_dist = {\n",
    "    'C': uniform(1, 50),  # Distribución uniforme de valores entre 1 y 50\n",
    "    'gamma': uniform(0.0001, 0.01)\n",
    "}\n",
    "\n",
    "# RandomizedSearchCV con búsqueda aleatoria\n",
    "grid = RandomizedSearchCV(\n",
    "    svc,\n",
    "    param_distributions=param_dist,\n",
    "    n_iter=20,  # Realiza 20 búsquedas aleatorias\n",
    "    cv=3,  # Validación cruzada con 3 folds\n",
    "    n_jobs=-1,  # Utiliza todos los núcleos\n",
    "    random_state=42\n",
    ")\n",
    "\n",
    "# Entrenar el modelo\n",
    "grid.fit(X_train_pca, y_train_res)\n",
    "\n",
    "# Imprimir los mejores hiperparámetros encontrados\n",
    "print(\"Mejores parámetros encontrados:\", grid.best_params_)\n",
    "\n",
    "# Creación del modelo con los parámetros óptimos\n",
    "model_new_svc = grid.best_estimator_\n",
    "\n",
    "# Predecir\n",
    "yfit_svc = model_new_svc.predict(X_test_pca)\n",
    "\n",
    "# Evaluación del modelo\n",
    "yhat_svc = model_new_svc.predict(X_test_pca)\n",
    "accu_svc = accuracy_score(y_test, yhat_svc)\n",
    "prec_svc = precision_score(y_test, yhat_svc, average='weighted')\n",
    "reca_svc = recall_score(y_test, yhat_svc, average='weighted')\n",
    "\n",
    "print(f'Accuracy: {accu_svc:.3f}')\n",
    "print(f'Precision: {prec_svc:.3f}')\n",
    "print(f'Recall: {reca_svc:.3f}')"
   ]
  },
  {
   "cell_type": "markdown",
   "id": "b42daa45",
   "metadata": {},
   "source": [
    "# RandomForest"
   ]
  },
  {
   "cell_type": "code",
   "execution_count": null,
   "id": "f95b3755",
   "metadata": {},
   "outputs": [],
   "source": [
    "#Usando cross validation y grid search\n",
    "from sklearn.model_selection import GridSearchCV\n",
    "\n",
    "model = RandomForestClassifier(criterion='gini',\n",
    "                               min_samples_leaf=2,\n",
    "                               bootstrap=True,\n",
    "                               oob_score=False,\n",
    "                               random_state=42,\n",
    "                               verbose=2)\n",
    "\n",
    "\n",
    "#Grid search para optimizar hiperparámetros\n",
    "\n",
    "gs = GridSearchCV(model,\n",
    "                  param_grid = {'max_depth': range(1, 11), #profundidad del árbol\n",
    "                                'min_samples_split': range(1, 10, 2),\n",
    "                                'n_estimators': range(1,15,2) #número de árboles\n",
    "                                }, \n",
    "                  cv=kfold,\n",
    "                  scoring='accuracy'\n",
    "                  )\n",
    "\n",
    "\n",
    "#entrenar modelo\n",
    "gs.fit(X_train_res, y_train_res)\n",
    "\n",
    "\n",
    "#imprimir hiperparámetros óptimos\n",
    "print(gs.best_params_)"
   ]
  },
  {
   "cell_type": "code",
   "execution_count": null,
   "id": "70c3a891",
   "metadata": {},
   "outputs": [],
   "source": [
    "new_model = RandomForestClassifier(n_estimators=8,\n",
    "                               criterion='gini',\n",
    "                               max_depth=8,\n",
    "                               min_samples_split=9,\n",
    "                               min_samples_leaf=2,\n",
    "                               bootstrap=True,\n",
    "                               oob_score=False,\n",
    "                               random_state=42,\n",
    "                               verbose=2)\n",
    "\n",
    "#entrenar nuevo modelo\n",
    "new_model.fit(X_train_res, y_train_res)"
   ]
  },
  {
   "cell_type": "code",
   "execution_count": null,
   "id": "c22aa153",
   "metadata": {},
   "outputs": [],
   "source": [
    "yhat_rf = new_model.predict(X_test)\n",
    "accu_rf = accuracy_score(y_test,yhat_rf)\n",
    "prec_rf = precision_score(y_test,yhat_rf,average='weighted')\n",
    "reca_rf = recall_score(y_test,yhat_rf,average='weighted')\n",
    "print('Accuracy\\t Precision\\t Recall\\n %0.3f\\t %0.3f\\t %0.3f'%(accu_rf,prec_rf,reca_rf))"
   ]
  },
  {
   "cell_type": "markdown",
   "id": "f59e3f7b",
   "metadata": {},
   "source": [
    "### XGBoost"
   ]
  },
  {
   "cell_type": "code",
   "execution_count": null,
   "id": "93e221dd",
   "metadata": {},
   "outputs": [],
   "source": [
    "import xgboost as xgb\n",
    "from sklearn.metrics import accuracy_score, precision_score, recall_score\n",
    "\n",
    "# Prepare the data in DMatrix format\n",
    "dtrain = xgb.DMatrix(X_train_res, label=y_train_res-1)\n",
    "dtest = xgb.DMatrix(X_test, label=y_test-1)\n",
    "\n",
    "# Set parameters\n",
    "params = {\n",
    "    'objective': 'multi:softprob',\n",
    "    'num_class': 3,\n",
    "    'gamma': 1,\n",
    "    'learning_rate': 0.1,\n",
    "    'max_depth': 10,\n",
    "    'reg_lambda': 1,\n",
    "    'scale_pos_weight': 1,\n",
    "    'subsample': 0.9,\n",
    "    'colsample_bytree': 0.5,\n",
    "    'seed': 42\n",
    "}\n",
    "\n",
    "# Train the model\n",
    "modelo_xgb = xgb.train(\n",
    "    params,\n",
    "    dtrain,\n",
    "    num_boost_round=1000,\n",
    "    evals=[(dtest, 'test')],\n",
    "    early_stopping_rounds=10,\n",
    "    verbose_eval=False\n",
    ")\n",
    "\n",
    "# Make predictions\n",
    "yhat_xgb = modelo_xgb.predict(dtest)\n",
    "yhat_xgb = yhat_xgb.argmax(axis=1)  # Convert probabilities to class predictions\n",
    "\n",
    "# Evaluate the model\n",
    "accu_xgb = accuracy_score(y_test-1, yhat_xgb)\n",
    "prec_xgb = precision_score(y_test-1, yhat_xgb, average='weighted')\n",
    "reca_xgb = recall_score(y_test-1, yhat_xgb, average='weighted')\n",
    "\n",
    "print('Accuracy\\t Precision\\t Recall')\n",
    "print(f'{accu_xgb:.3f}\\t\\t {prec_xgb:.3f}\\t\\t {reca_xgb:.3f}')"
   ]
  },
  {
   "cell_type": "code",
   "execution_count": null,
   "id": "41339b2c",
   "metadata": {},
   "outputs": [],
   "source": [
    "data_compar_cross = {'Modelo': ['LR', 'SVC','RF',' XGBoost'], 'Accuracy': [acc_lr,accu_svc,accu_rf,accu_xgb], 'Precision': [prec_lr,prec_svc,prec_rf,prec_xgb], 'Recall': [rec_lr ,reca_svc,reca_rf ,reca_xgb]}\n",
    "\n",
    "data_compar_cross = pd.DataFrame(data_compar_cross)\n",
    "data_compar_cross"
   ]
  },
  {
   "cell_type": "code",
   "execution_count": null,
   "id": "0a4805d1",
   "metadata": {},
   "outputs": [],
   "source": [
    "cm = confusion_matrix(y_test,yhat_xgb+1)\n",
    "plt.figure(figsize=(4, 4))\n",
    "sns.heatmap(cm, annot=True, fmt='.0f')\n",
    "plt.xlabel(\"Predicted Digits\")\n",
    "plt.ylabel(\"True Digits\")\n",
    "plt.title('XGBoost')\n",
    "plt.show()"
   ]
  },
  {
   "cell_type": "code",
   "execution_count": null,
   "id": "eee28d48",
   "metadata": {},
   "outputs": [],
   "source": [
    "cm = confusion_matrix(y_test,yhat_rf)\n",
    "plt.figure(figsize=(4, 4))\n",
    "sns.heatmap(cm, annot=True, fmt='.0f')\n",
    "plt.xlabel(\"Predicted Digits\")\n",
    "plt.ylabel(\"True Digits\")\n",
    "plt.title('RandomForest')\n",
    "plt.show()"
   ]
  },
  {
   "cell_type": "code",
   "execution_count": null,
   "id": "ccb3b44a",
   "metadata": {},
   "outputs": [],
   "source": [
    "cm = confusion_matrix(y_test,yhat_svc)\n",
    "plt.figure(figsize=(4, 4))\n",
    "sns.heatmap(cm, annot=True, fmt='.0f')\n",
    "plt.xlabel(\"Predicted Digits\")\n",
    "plt.ylabel(\"True Digits\")\n",
    "plt.title('SVC')\n",
    "plt.show()"
   ]
  },
  {
   "cell_type": "code",
   "execution_count": null,
   "id": "a924c4c3",
   "metadata": {},
   "outputs": [],
   "source": [
    "cm = confusion_matrix(y_test,y_pred)\n",
    "plt.figure(figsize=(4, 4))\n",
    "sns.heatmap(cm, annot=True, fmt='.0f')\n",
    "plt.xlabel(\"Predicted Digits\")\n",
    "plt.ylabel(\"True Digits\")\n",
    "plt.title('LR')\n",
    "plt.show()"
   ]
  },
  {
   "cell_type": "code",
   "execution_count": null,
   "id": "60dd36a9",
   "metadata": {},
   "outputs": [],
   "source": [
    "df_pred = pd.DataFrame({'y_test': y_test, 'y_pred': y_pred, 'yhat_svc': yhat_svc, 'yhat_rf': yhat_rf, 'yhat_xgb': yhat_xgb+1})\n",
    "df_pred.head(20)"
   ]
  },
  {
   "cell_type": "code",
   "execution_count": null,
   "id": "94fecac4",
   "metadata": {},
   "outputs": [],
   "source": [
    "a=df_pred.head(20).index\n",
    "df[['Anfitrion','Adversario','GF','GC']].iloc[a]"
   ]
  },
  {
   "cell_type": "markdown",
   "id": "9f18bd19",
   "metadata": {},
   "source": [
    "### Predicciones"
   ]
  },
  {
   "cell_type": "code",
   "execution_count": null,
   "id": "e8ce1866",
   "metadata": {},
   "outputs": [],
   "source": [
    "new_df = pd.read_excel('Predictions Jornada7.xlsx')\n",
    "new_df.head()"
   ]
  },
  {
   "cell_type": "code",
   "execution_count": 34,
   "id": "14546a60",
   "metadata": {},
   "outputs": [],
   "source": [
    "predicted_df=new_df[['Día','Sedes','Edad(opp)','Pos.(opp)', 'Ass(opp)', 'TPint(opp)', \n",
    "      'PrgC(opp)', 'PrgP(opp)','% de TT(opp)', 'Dist(opp)', '% Cmp(opp)', 'Dist. tot.(opp)','TklG(opp)', 'Int(opp)', \n",
    "      'Err(opp)', 'RL(opp)', 'PG(opp)', 'PE(opp)','PP(opp)', 'GF(opp)', 'GC(opp)', 'xG(opp)', 'xGA(opp)','Últimos 5(opp)', \n",
    "      'Máximo Goleador del Equipo(opp)', 'Edad(tm)', 'Pos.(tm)', 'Ass(tm)', 'TPint(tm)', 'PrgC(tm)', 'PrgP(tm)',\n",
    "      '% de TT(tm)', 'Dist(tm)', '% Cmp(tm)', 'Dist. tot.(tm)', 'TklG(tm)','Int(tm)', 'Err(tm)', 'RL(tm)', 'PG(tm)', \n",
    "      'PE(tm)', 'PP(tm)', 'GF(tm)','GC(tm)', 'xG(tm)', 'xGA(tm)', 'Últimos 5(tm)','Máximo Goleador del Equipo(tm)']]"
   ]
  },
  {
   "cell_type": "code",
   "execution_count": null,
   "id": "5c8fd064",
   "metadata": {},
   "outputs": [],
   "source": [
    "predicted_df"
   ]
  },
  {
   "cell_type": "code",
   "execution_count": 36,
   "id": "582e0271",
   "metadata": {},
   "outputs": [],
   "source": [
    "sc = StandardScaler()\n",
    "predicted_df = sc.fit_transform(predicted_df)"
   ]
  },
  {
   "cell_type": "code",
   "execution_count": 37,
   "id": "eb7553ff-0bdb-4176-9a88-2a04a4d3c030",
   "metadata": {},
   "outputs": [],
   "source": [
    "# Function to prepare data and make predictions\n",
    "def predict_xgb(model, data):\n",
    "    # Convert input data to DMatrix\n",
    "    dmatrix = xgb.DMatrix(data)\n",
    "    \n",
    "    # Make predictions\n",
    "    predictions = model.predict(dmatrix)\n",
    "    \n",
    "    # Convert probabilities to class predictions\n",
    "    class_predictions = np.argmax(predictions, axis=1)\n",
    "    \n",
    "    return class_predictions\n",
    "\n",
    "predictions_xgb = predict_xgb(modelo_xgb, predicted_df)"
   ]
  },
  {
   "cell_type": "code",
   "execution_count": 38,
   "id": "f029af74",
   "metadata": {},
   "outputs": [],
   "source": [
    "def predict_proba_xgb(model, data):\n",
    "    dmatrix = xgb.DMatrix(data)\n",
    "    return model.predict(dmatrix)\n",
    "\n",
    "probabilities_xgb = predict_proba_xgb(modelo_xgb, predicted_df)"
   ]
  },
  {
   "cell_type": "code",
   "execution_count": null,
   "id": "5b5b6e25",
   "metadata": {},
   "outputs": [],
   "source": [
    "predictions_rf = new_model.predict(predicted_df)\n",
    "predictions_rf"
   ]
  },
  {
   "cell_type": "code",
   "execution_count": null,
   "id": "f1a54fdf",
   "metadata": {},
   "outputs": [],
   "source": [
    "predictions_svc = model_new_svc.predict(predicted_df)\n",
    "predictions_svc"
   ]
  },
  {
   "cell_type": "code",
   "execution_count": null,
   "id": "23637690",
   "metadata": {},
   "outputs": [],
   "source": [
    "predictions_lr = log_model.predict(predicted_df)\n",
    "predictions_lr"
   ]
  },
  {
   "cell_type": "code",
   "execution_count": null,
   "id": "5860dd3c",
   "metadata": {},
   "outputs": [],
   "source": [
    "df_pred = pd.DataFrame({'Regresión Logistica': predictions_lr, 'rf': predictions_rf,'SVC': predictions_svc,'XGB': predictions_xgb+1})\n",
    "df_pred"
   ]
  },
  {
   "cell_type": "code",
   "execution_count": null,
   "id": "8a30df9e",
   "metadata": {},
   "outputs": [],
   "source": [
    "df_pred['Anfitrion']=new_df['Anfitrion']\n",
    "df_pred['Rival']=new_df['Adversario']\n",
    "df_pred"
   ]
  },
  {
   "cell_type": "code",
   "execution_count": 44,
   "id": "b9ca298e",
   "metadata": {},
   "outputs": [],
   "source": [
    "probabilities_xgb = pd.DataFrame(data=probabilities_xgb)\n",
    "probabilities_xgb.columns = ['perder', 'empatar', 'ganar']\n",
    "probabilities_xgb['Anfitrion']=new_df['Anfitrion']\n",
    "probabilities_xgb['Rival']=new_df['Adversario']"
   ]
  },
  {
   "cell_type": "code",
   "execution_count": null,
   "id": "93e3cb3e-31af-46e7-9be2-a0e3fd317582",
   "metadata": {},
   "outputs": [],
   "source": [
    "probabilities_xgb"
   ]
  },
  {
   "cell_type": "code",
   "execution_count": null,
   "id": "2f70a24f-e948-4aa5-b515-5cea75e19254",
   "metadata": {},
   "outputs": [],
   "source": []
  }
 ],
 "metadata": {
  "kernelspec": {
   "display_name": "Python 3 (ipykernel)",
   "language": "python",
   "name": "python3"
  },
  "language_info": {
   "codemirror_mode": {
    "name": "ipython",
    "version": 3
   },
   "file_extension": ".py",
   "mimetype": "text/x-python",
   "name": "python",
   "nbconvert_exporter": "python",
   "pygments_lexer": "ipython3",
   "version": "3.12.3"
  }
 },
 "nbformat": 4,
 "nbformat_minor": 5
}
