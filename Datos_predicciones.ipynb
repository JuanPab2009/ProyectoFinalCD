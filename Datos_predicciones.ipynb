{
 "cells": [
  {
   "cell_type": "code",
   "id": "7b308f58",
   "metadata": {
    "ExecuteTime": {
     "end_time": "2024-11-01T16:52:00.357117Z",
     "start_time": "2024-11-01T16:52:00.291407Z"
    }
   },
   "source": [
    "import pandas as pd\n",
    "import numpy as np\n",
    "import re\n",
    "import requests\n",
    "import time"
   ],
   "outputs": [],
   "execution_count": 1
  },
  {
   "cell_type": "markdown",
   "id": "7ff1bc13-c03d-4a7f-b0c7-bd6f2310ddd8",
   "metadata": {},
   "source": [
    "## Seleccionamos el numero de jornada"
   ]
  },
  {
   "cell_type": "code",
   "id": "5830427d-3703-42bf-be70-bffba59e6c3d",
   "metadata": {
    "ExecuteTime": {
     "end_time": "2024-11-01T16:52:00.364755Z",
     "start_time": "2024-11-01T16:52:00.357117Z"
    }
   },
   "source": "jornada = 12",
   "outputs": [],
   "execution_count": 2
  },
  {
   "cell_type": "code",
   "id": "095850e5",
   "metadata": {
    "ExecuteTime": {
     "end_time": "2024-11-01T16:52:00.975330Z",
     "start_time": "2024-11-01T16:52:00.505264Z"
    }
   },
   "source": [
    "url= \"https://fbref.com/es/comps/12/horario/Resultados-y-partidos-en-La-Liga\"\n",
    "tables = pd.read_html(url)\n",
    "df = tables[0]\n",
    "# seleccionamos las variables\n",
    "df = df[['Sem.', 'Día', 'Fecha','Local','Visitante']]\n",
    "## Hacemos la columna fecha del formato correspondiente\n",
    "df[\"Fecha\"] = pd.to_datetime(df[\"Fecha\"])\n",
    "# Hacemos el encoding de los días\n",
    "dias_map = {\n",
    "    'Lun': 1,\n",
    "    'Mar': 2,\n",
    "    'Mié': 3,\n",
    "    'Jue': 4,\n",
    "    'Vie': 5,\n",
    "    'Sáb': 6,\n",
    "    'Dom': 7\n",
    "}\n",
    "df[\"Día\"] = df[\"Día\"].map(dias_map)\n",
    "# Filtramos por jornada\n",
    "df = df[df[\"Sem.\"] == jornada]\n",
    "# Agregamos la columnda de sede\n",
    "df[\"Sedes\"] = 1\n",
    "# Renombramos las columnas\n",
    "df = df[[\"Día\",\"Sedes\",\"Visitante\",\"Local\"]]\n",
    "df = df.rename(columns = {\"Local\":\"Anfitrion\",\"Visitante\":\"Adversario\"})\n",
    "# Duplicamos el dataframe e invertimos las columnas para hacer la concatenacion\n",
    "df_2 = df.copy()\n",
    "df_2 = df_2.rename(columns={\"Adversario\":\"Anfitrion\",\"Anfitrion\":\"Adversario\"})\n",
    "df_2[\"Sedes\"] = 0\n",
    "df = pd.concat([df, df_2], ignore_index=True)\n",
    "df[\"Día\"] = df[\"Día\"].astype(int)"
   ],
   "outputs": [
    {
     "name": "stderr",
     "output_type": "stream",
     "text": [
      "C:\\Users\\ctorr\\AppData\\Local\\Temp\\ipykernel_12432\\3972242974.py:7: SettingWithCopyWarning: \n",
      "A value is trying to be set on a copy of a slice from a DataFrame.\n",
      "Try using .loc[row_indexer,col_indexer] = value instead\n",
      "\n",
      "See the caveats in the documentation: https://pandas.pydata.org/pandas-docs/stable/user_guide/indexing.html#returning-a-view-versus-a-copy\n",
      "  df[\"Fecha\"] = pd.to_datetime(df[\"Fecha\"])\n",
      "C:\\Users\\ctorr\\AppData\\Local\\Temp\\ipykernel_12432\\3972242974.py:18: SettingWithCopyWarning: \n",
      "A value is trying to be set on a copy of a slice from a DataFrame.\n",
      "Try using .loc[row_indexer,col_indexer] = value instead\n",
      "\n",
      "See the caveats in the documentation: https://pandas.pydata.org/pandas-docs/stable/user_guide/indexing.html#returning-a-view-versus-a-copy\n",
      "  df[\"Día\"] = df[\"Día\"].map(dias_map)\n"
     ]
    }
   ],
   "execution_count": 3
  },
  {
   "cell_type": "code",
   "id": "e9ecb0e6-abac-4898-8598-81e7e837c608",
   "metadata": {
    "ExecuteTime": {
     "end_time": "2024-11-01T16:52:00.997250Z",
     "start_time": "2024-11-01T16:52:00.987806Z"
    }
   },
   "source": [
    "df"
   ],
   "outputs": [
    {
     "data": {
      "text/plain": [
       "    Día  Sedes       Adversario        Anfitrion\n",
       "0     5      1         Mallorca           Alavés\n",
       "1     6      1       Valladolid          Osasuna\n",
       "2     6      1          Leganés           Girona\n",
       "3     6      1   Rayo Vallecano       Villarreal\n",
       "4     6      1      Real Madrid         Valencia\n",
       "5     7      1       Las Palmas  Atlético Madrid\n",
       "6     7      1         Espanyol        Barcelona\n",
       "7     7      1    Real Sociedad          Sevilla\n",
       "8     7      1            Betis    Athletic Club\n",
       "9     1      1           Getafe       Celta Vigo\n",
       "10    5      0           Alavés         Mallorca\n",
       "11    6      0          Osasuna       Valladolid\n",
       "12    6      0           Girona          Leganés\n",
       "13    6      0       Villarreal   Rayo Vallecano\n",
       "14    6      0         Valencia      Real Madrid\n",
       "15    7      0  Atlético Madrid       Las Palmas\n",
       "16    7      0        Barcelona         Espanyol\n",
       "17    7      0          Sevilla    Real Sociedad\n",
       "18    7      0    Athletic Club            Betis\n",
       "19    1      0       Celta Vigo           Getafe"
      ],
      "text/html": [
       "<div>\n",
       "<style scoped>\n",
       "    .dataframe tbody tr th:only-of-type {\n",
       "        vertical-align: middle;\n",
       "    }\n",
       "\n",
       "    .dataframe tbody tr th {\n",
       "        vertical-align: top;\n",
       "    }\n",
       "\n",
       "    .dataframe thead th {\n",
       "        text-align: right;\n",
       "    }\n",
       "</style>\n",
       "<table border=\"1\" class=\"dataframe\">\n",
       "  <thead>\n",
       "    <tr style=\"text-align: right;\">\n",
       "      <th></th>\n",
       "      <th>Día</th>\n",
       "      <th>Sedes</th>\n",
       "      <th>Adversario</th>\n",
       "      <th>Anfitrion</th>\n",
       "    </tr>\n",
       "  </thead>\n",
       "  <tbody>\n",
       "    <tr>\n",
       "      <th>0</th>\n",
       "      <td>5</td>\n",
       "      <td>1</td>\n",
       "      <td>Mallorca</td>\n",
       "      <td>Alavés</td>\n",
       "    </tr>\n",
       "    <tr>\n",
       "      <th>1</th>\n",
       "      <td>6</td>\n",
       "      <td>1</td>\n",
       "      <td>Valladolid</td>\n",
       "      <td>Osasuna</td>\n",
       "    </tr>\n",
       "    <tr>\n",
       "      <th>2</th>\n",
       "      <td>6</td>\n",
       "      <td>1</td>\n",
       "      <td>Leganés</td>\n",
       "      <td>Girona</td>\n",
       "    </tr>\n",
       "    <tr>\n",
       "      <th>3</th>\n",
       "      <td>6</td>\n",
       "      <td>1</td>\n",
       "      <td>Rayo Vallecano</td>\n",
       "      <td>Villarreal</td>\n",
       "    </tr>\n",
       "    <tr>\n",
       "      <th>4</th>\n",
       "      <td>6</td>\n",
       "      <td>1</td>\n",
       "      <td>Real Madrid</td>\n",
       "      <td>Valencia</td>\n",
       "    </tr>\n",
       "    <tr>\n",
       "      <th>5</th>\n",
       "      <td>7</td>\n",
       "      <td>1</td>\n",
       "      <td>Las Palmas</td>\n",
       "      <td>Atlético Madrid</td>\n",
       "    </tr>\n",
       "    <tr>\n",
       "      <th>6</th>\n",
       "      <td>7</td>\n",
       "      <td>1</td>\n",
       "      <td>Espanyol</td>\n",
       "      <td>Barcelona</td>\n",
       "    </tr>\n",
       "    <tr>\n",
       "      <th>7</th>\n",
       "      <td>7</td>\n",
       "      <td>1</td>\n",
       "      <td>Real Sociedad</td>\n",
       "      <td>Sevilla</td>\n",
       "    </tr>\n",
       "    <tr>\n",
       "      <th>8</th>\n",
       "      <td>7</td>\n",
       "      <td>1</td>\n",
       "      <td>Betis</td>\n",
       "      <td>Athletic Club</td>\n",
       "    </tr>\n",
       "    <tr>\n",
       "      <th>9</th>\n",
       "      <td>1</td>\n",
       "      <td>1</td>\n",
       "      <td>Getafe</td>\n",
       "      <td>Celta Vigo</td>\n",
       "    </tr>\n",
       "    <tr>\n",
       "      <th>10</th>\n",
       "      <td>5</td>\n",
       "      <td>0</td>\n",
       "      <td>Alavés</td>\n",
       "      <td>Mallorca</td>\n",
       "    </tr>\n",
       "    <tr>\n",
       "      <th>11</th>\n",
       "      <td>6</td>\n",
       "      <td>0</td>\n",
       "      <td>Osasuna</td>\n",
       "      <td>Valladolid</td>\n",
       "    </tr>\n",
       "    <tr>\n",
       "      <th>12</th>\n",
       "      <td>6</td>\n",
       "      <td>0</td>\n",
       "      <td>Girona</td>\n",
       "      <td>Leganés</td>\n",
       "    </tr>\n",
       "    <tr>\n",
       "      <th>13</th>\n",
       "      <td>6</td>\n",
       "      <td>0</td>\n",
       "      <td>Villarreal</td>\n",
       "      <td>Rayo Vallecano</td>\n",
       "    </tr>\n",
       "    <tr>\n",
       "      <th>14</th>\n",
       "      <td>6</td>\n",
       "      <td>0</td>\n",
       "      <td>Valencia</td>\n",
       "      <td>Real Madrid</td>\n",
       "    </tr>\n",
       "    <tr>\n",
       "      <th>15</th>\n",
       "      <td>7</td>\n",
       "      <td>0</td>\n",
       "      <td>Atlético Madrid</td>\n",
       "      <td>Las Palmas</td>\n",
       "    </tr>\n",
       "    <tr>\n",
       "      <th>16</th>\n",
       "      <td>7</td>\n",
       "      <td>0</td>\n",
       "      <td>Barcelona</td>\n",
       "      <td>Espanyol</td>\n",
       "    </tr>\n",
       "    <tr>\n",
       "      <th>17</th>\n",
       "      <td>7</td>\n",
       "      <td>0</td>\n",
       "      <td>Sevilla</td>\n",
       "      <td>Real Sociedad</td>\n",
       "    </tr>\n",
       "    <tr>\n",
       "      <th>18</th>\n",
       "      <td>7</td>\n",
       "      <td>0</td>\n",
       "      <td>Athletic Club</td>\n",
       "      <td>Betis</td>\n",
       "    </tr>\n",
       "    <tr>\n",
       "      <th>19</th>\n",
       "      <td>1</td>\n",
       "      <td>0</td>\n",
       "      <td>Celta Vigo</td>\n",
       "      <td>Getafe</td>\n",
       "    </tr>\n",
       "  </tbody>\n",
       "</table>\n",
       "</div>"
      ]
     },
     "execution_count": 4,
     "metadata": {},
     "output_type": "execute_result"
    }
   ],
   "execution_count": 4
  },
  {
   "cell_type": "markdown",
   "id": "967b2993",
   "metadata": {},
   "source": [
    "### Estadisticas básicas"
   ]
  },
  {
   "cell_type": "code",
   "id": "6d8dcc0c",
   "metadata": {
    "ExecuteTime": {
     "end_time": "2024-11-01T16:52:01.357844Z",
     "start_time": "2024-11-01T16:52:01.031458Z"
    }
   },
   "source": [
    "url= \"https://fbref.com/es/comps/12/Estadisticas-de-La-Liga\"\n",
    "tables = pd.read_html(url)\n",
    "df_basic = tables[0]"
   ],
   "outputs": [],
   "execution_count": 5
  },
  {
   "cell_type": "code",
   "id": "4851c207",
   "metadata": {
    "ExecuteTime": {
     "end_time": "2024-11-01T16:52:01.383225Z",
     "start_time": "2024-11-01T16:52:01.378907Z"
    }
   },
   "source": [
    "df_basic=df_basic[['RL','Equipo','PG','PE', 'PP','GF','GC', 'xG', 'xGA','Últimos 5','Máximo Goleador del Equipo']]"
   ],
   "outputs": [],
   "execution_count": 6
  },
  {
   "cell_type": "code",
   "id": "5fe3ec33",
   "metadata": {
    "ExecuteTime": {
     "end_time": "2024-11-01T16:52:01.406300Z",
     "start_time": "2024-11-01T16:52:01.390732Z"
    }
   },
   "source": [
    "df_basic['Máximo Goleador del Equipo'] = df_basic['Máximo Goleador del Equipo'].apply(lambda x: int(re.search(r'\\b(\\d+)\\b', x).group(1)) if re.search(r'\\b(\\d+)\\b', x) else None)\n",
    "\n",
    "df_basic['Últimos 5'] = df_basic['Últimos 5'].apply(lambda resultados: sum([3 if resultado == 'PG' else (1 if resultado == 'PE' else 0) for resultado in resultados.split()]))\n"
   ],
   "outputs": [
    {
     "name": "stderr",
     "output_type": "stream",
     "text": [
      "C:\\Users\\ctorr\\AppData\\Local\\Temp\\ipykernel_12432\\339425139.py:1: SettingWithCopyWarning: \n",
      "A value is trying to be set on a copy of a slice from a DataFrame.\n",
      "Try using .loc[row_indexer,col_indexer] = value instead\n",
      "\n",
      "See the caveats in the documentation: https://pandas.pydata.org/pandas-docs/stable/user_guide/indexing.html#returning-a-view-versus-a-copy\n",
      "  df_basic['Máximo Goleador del Equipo'] = df_basic['Máximo Goleador del Equipo'].apply(lambda x: int(re.search(r'\\b(\\d+)\\b', x).group(1)) if re.search(r'\\b(\\d+)\\b', x) else None)\n",
      "C:\\Users\\ctorr\\AppData\\Local\\Temp\\ipykernel_12432\\339425139.py:3: SettingWithCopyWarning: \n",
      "A value is trying to be set on a copy of a slice from a DataFrame.\n",
      "Try using .loc[row_indexer,col_indexer] = value instead\n",
      "\n",
      "See the caveats in the documentation: https://pandas.pydata.org/pandas-docs/stable/user_guide/indexing.html#returning-a-view-versus-a-copy\n",
      "  df_basic['Últimos 5'] = df_basic['Últimos 5'].apply(lambda resultados: sum([3 if resultado == 'PG' else (1 if resultado == 'PE' else 0) for resultado in resultados.split()]))\n"
     ]
    }
   ],
   "execution_count": 7
  },
  {
   "cell_type": "markdown",
   "id": "c2597b17",
   "metadata": {},
   "source": [
    "### Estadisticas de Ofensiva"
   ]
  },
  {
   "cell_type": "code",
   "id": "8c494cb0",
   "metadata": {
    "ExecuteTime": {
     "end_time": "2024-11-01T16:52:01.628018Z",
     "start_time": "2024-11-01T16:52:01.422775Z"
    }
   },
   "source": [
    "url= \"https://fbref.com/es/comps/12/Estadisticas-de-La-Liga\"\n",
    "tables = pd.read_html(url)\n",
    "df_ataque = tables[2]"
   ],
   "outputs": [],
   "execution_count": 8
  },
  {
   "cell_type": "code",
   "id": "ce6446f9",
   "metadata": {
    "ExecuteTime": {
     "end_time": "2024-11-01T16:52:01.653686Z",
     "start_time": "2024-11-01T16:52:01.648258Z"
    }
   },
   "source": [
    "df_ataque = df_ataque.drop([\"Tiempo Jugado\",\"Expectativa\",'Por 90 Minutos'],axis=1)"
   ],
   "outputs": [
    {
     "name": "stderr",
     "output_type": "stream",
     "text": [
      "C:\\Users\\ctorr\\AppData\\Local\\Temp\\ipykernel_12432\\1442764144.py:1: PerformanceWarning: dropping on a non-lexsorted multi-index without a level parameter may impact performance.\n",
      "  df_ataque = df_ataque.drop([\"Tiempo Jugado\",\"Expectativa\",'Por 90 Minutos'],axis=1)\n"
     ]
    }
   ],
   "execution_count": 9
  },
  {
   "cell_type": "code",
   "id": "81bbfe79",
   "metadata": {
    "ExecuteTime": {
     "end_time": "2024-11-01T16:52:01.675005Z",
     "start_time": "2024-11-01T16:52:01.671154Z"
    }
   },
   "source": [
    "df_ataque.columns = df_ataque.columns.droplevel(level=0)"
   ],
   "outputs": [],
   "execution_count": 10
  },
  {
   "cell_type": "code",
   "id": "dba091f1",
   "metadata": {
    "ExecuteTime": {
     "end_time": "2024-11-01T16:52:01.697330Z",
     "start_time": "2024-11-01T16:52:01.691943Z"
    }
   },
   "source": [
    "df_ataque=df_ataque[['Equipo', 'Edad', 'Pos.','Ass','TPint', 'PrgC', 'PrgP']]"
   ],
   "outputs": [],
   "execution_count": 11
  },
  {
   "cell_type": "markdown",
   "id": "26578114",
   "metadata": {},
   "source": [
    "##### Disparos"
   ]
  },
  {
   "cell_type": "code",
   "id": "740c7bc0",
   "metadata": {
    "ExecuteTime": {
     "end_time": "2024-11-01T16:52:01.919060Z",
     "start_time": "2024-11-01T16:52:01.713035Z"
    }
   },
   "source": [
    "url= \"https://fbref.com/es/comps/12/Estadisticas-de-La-Liga\"\n",
    "tables = pd.read_html(url)\n",
    "df_disparos = tables[8]"
   ],
   "outputs": [],
   "execution_count": 12
  },
  {
   "cell_type": "code",
   "id": "5029ba68",
   "metadata": {
    "ExecuteTime": {
     "end_time": "2024-11-01T16:52:01.944504Z",
     "start_time": "2024-11-01T16:52:01.939966Z"
    }
   },
   "source": [
    "df_disparos.columns=df_disparos.columns.droplevel(level=0)"
   ],
   "outputs": [],
   "execution_count": 13
  },
  {
   "cell_type": "code",
   "id": "9e224f9c",
   "metadata": {
    "ExecuteTime": {
     "end_time": "2024-11-01T16:52:01.969963Z",
     "start_time": "2024-11-01T16:52:01.964907Z"
    }
   },
   "source": [
    "df_disparos=df_disparos[['Equipo', '% de TT','Dist']]"
   ],
   "outputs": [],
   "execution_count": 14
  },
  {
   "cell_type": "code",
   "id": "6864511f",
   "metadata": {
    "ExecuteTime": {
     "end_time": "2024-11-01T16:52:01.991675Z",
     "start_time": "2024-11-01T16:52:01.986049Z"
    }
   },
   "source": [
    "df_ataque = pd.merge(df_ataque, df_disparos, left_on='Equipo', right_on='Equipo', how='left')"
   ],
   "outputs": [],
   "execution_count": 15
  },
  {
   "cell_type": "markdown",
   "id": "50f331d3",
   "metadata": {},
   "source": [
    "##### Pases"
   ]
  },
  {
   "cell_type": "code",
   "id": "a4a9ae46",
   "metadata": {
    "ExecuteTime": {
     "end_time": "2024-11-01T16:52:02.215Z",
     "start_time": "2024-11-01T16:52:02.009323Z"
    }
   },
   "source": [
    "url= \"https://fbref.com/es/comps/12/Estadisticas-de-La-Liga\"\n",
    "tables = pd.read_html(url)\n",
    "df_pases = tables[10]"
   ],
   "outputs": [],
   "execution_count": 16
  },
  {
   "cell_type": "code",
   "id": "bbc591c8",
   "metadata": {
    "ExecuteTime": {
     "end_time": "2024-11-01T16:52:02.247618Z",
     "start_time": "2024-11-01T16:52:02.241914Z"
    }
   },
   "source": [
    "df_pases = df_pases.drop([\"Cortos\",\"Medios\",'Largos','Expectativa'],axis=1)"
   ],
   "outputs": [
    {
     "name": "stderr",
     "output_type": "stream",
     "text": [
      "C:\\Users\\ctorr\\AppData\\Local\\Temp\\ipykernel_12432\\466504704.py:1: PerformanceWarning: dropping on a non-lexsorted multi-index without a level parameter may impact performance.\n",
      "  df_pases = df_pases.drop([\"Cortos\",\"Medios\",'Largos','Expectativa'],axis=1)\n"
     ]
    }
   ],
   "execution_count": 17
  },
  {
   "cell_type": "code",
   "id": "882ba897",
   "metadata": {
    "ExecuteTime": {
     "end_time": "2024-11-01T16:52:02.271375Z",
     "start_time": "2024-11-01T16:52:02.267311Z"
    }
   },
   "source": [
    "df_pases.columns=df_pases.columns.droplevel(level=0)"
   ],
   "outputs": [],
   "execution_count": 18
  },
  {
   "cell_type": "code",
   "id": "8e16db16",
   "metadata": {
    "ExecuteTime": {
     "end_time": "2024-11-01T16:52:02.294760Z",
     "start_time": "2024-11-01T16:52:02.290459Z"
    }
   },
   "source": [
    "df_pases=df_pases[['Equipo', '% Cmp','Dist. tot.']]"
   ],
   "outputs": [],
   "execution_count": 19
  },
  {
   "cell_type": "code",
   "id": "de02a405",
   "metadata": {
    "ExecuteTime": {
     "end_time": "2024-11-01T16:52:02.318148Z",
     "start_time": "2024-11-01T16:52:02.311726Z"
    }
   },
   "source": [
    "df_ataque = pd.merge(df_ataque, df_pases, left_on='Equipo', right_on='Equipo', how='left')"
   ],
   "outputs": [],
   "execution_count": 20
  },
  {
   "cell_type": "markdown",
   "id": "7887d25d",
   "metadata": {},
   "source": [
    "### Estadisticas de defensa"
   ]
  },
  {
   "cell_type": "code",
   "id": "26c289f0",
   "metadata": {
    "ExecuteTime": {
     "end_time": "2024-11-01T16:52:02.552256Z",
     "start_time": "2024-11-01T16:52:02.335453Z"
    }
   },
   "source": [
    "url= \"https://fbref.com/es/comps/12/Estadisticas-de-La-Liga\"\n",
    "tables = pd.read_html(url)\n",
    "df_porteria = tables[4]"
   ],
   "outputs": [],
   "execution_count": 21
  },
  {
   "cell_type": "code",
   "id": "d4d52594",
   "metadata": {
    "ExecuteTime": {
     "end_time": "2024-11-01T16:52:02.579977Z",
     "start_time": "2024-11-01T16:52:02.574995Z"
    }
   },
   "source": [
    "df_porteria = df_porteria.drop([\"Tiempo Jugado\",\"Tiros penales\"],axis=1)"
   ],
   "outputs": [
    {
     "name": "stderr",
     "output_type": "stream",
     "text": [
      "C:\\Users\\ctorr\\AppData\\Local\\Temp\\ipykernel_12432\\2417922220.py:1: PerformanceWarning: dropping on a non-lexsorted multi-index without a level parameter may impact performance.\n",
      "  df_porteria = df_porteria.drop([\"Tiempo Jugado\",\"Tiros penales\"],axis=1)\n"
     ]
    }
   ],
   "execution_count": 22
  },
  {
   "cell_type": "code",
   "id": "6ac34803",
   "metadata": {
    "ExecuteTime": {
     "end_time": "2024-11-01T16:52:02.605360Z",
     "start_time": "2024-11-01T16:52:02.601009Z"
    }
   },
   "source": [
    "df_porteria.columns = df_porteria.columns.droplevel(level=0)"
   ],
   "outputs": [],
   "execution_count": 23
  },
  {
   "cell_type": "code",
   "id": "e43eb2b0",
   "metadata": {
    "ExecuteTime": {
     "end_time": "2024-11-01T16:52:02.630403Z",
     "start_time": "2024-11-01T16:52:02.625880Z"
    }
   },
   "source": [
    "df_porteria=df_porteria[['Equipo', 'GC', 'DaPC', 'Salvadas','PaC']]"
   ],
   "outputs": [],
   "execution_count": 24
  },
  {
   "cell_type": "code",
   "id": "40a442ef",
   "metadata": {
    "ExecuteTime": {
     "end_time": "2024-11-01T16:52:02.895864Z",
     "start_time": "2024-11-01T16:52:02.670403Z"
    }
   },
   "source": [
    "url= \"https://fbref.com/es/comps/12/Estadisticas-de-La-Liga\"\n",
    "tables = pd.read_html(url)\n",
    "df_defensa = tables[16]"
   ],
   "outputs": [],
   "execution_count": 25
  },
  {
   "cell_type": "code",
   "id": "2fd2767b",
   "metadata": {
    "ExecuteTime": {
     "end_time": "2024-11-01T16:52:02.968667Z",
     "start_time": "2024-11-01T16:52:02.959146Z"
    }
   },
   "source": [
    "df_defensa = df_defensa.drop(['Desafíos'],axis=1)"
   ],
   "outputs": [
    {
     "name": "stderr",
     "output_type": "stream",
     "text": [
      "C:\\Users\\ctorr\\AppData\\Local\\Temp\\ipykernel_12432\\1078235159.py:1: PerformanceWarning: dropping on a non-lexsorted multi-index without a level parameter may impact performance.\n",
      "  df_defensa = df_defensa.drop(['Desafíos'],axis=1)\n"
     ]
    }
   ],
   "execution_count": 26
  },
  {
   "cell_type": "code",
   "id": "c60e39a1",
   "metadata": {
    "ExecuteTime": {
     "end_time": "2024-11-01T16:52:03.069407Z",
     "start_time": "2024-11-01T16:52:03.065666Z"
    }
   },
   "source": [
    "df_defensa.columns=df_defensa.columns.droplevel(level=0)"
   ],
   "outputs": [],
   "execution_count": 27
  },
  {
   "cell_type": "code",
   "id": "6863e599",
   "metadata": {
    "ExecuteTime": {
     "end_time": "2024-11-01T16:52:03.111234Z",
     "start_time": "2024-11-01T16:52:03.100252Z"
    }
   },
   "source": [
    "df_defensa=df_defensa[['Equipo', 'TklG','Int','Err']]"
   ],
   "outputs": [],
   "execution_count": 28
  },
  {
   "cell_type": "code",
   "id": "4595f54c",
   "metadata": {
    "ExecuteTime": {
     "end_time": "2024-11-01T16:52:03.195728Z",
     "start_time": "2024-11-01T16:52:03.189271Z"
    }
   },
   "source": [
    "df_final = pd.merge(df_ataque, df_defensa, left_on='Equipo', right_on='Equipo', how='left')"
   ],
   "outputs": [],
   "execution_count": 29
  },
  {
   "cell_type": "code",
   "id": "2c541054",
   "metadata": {
    "ExecuteTime": {
     "end_time": "2024-11-01T16:52:03.214929Z",
     "start_time": "2024-11-01T16:52:03.208771Z"
    }
   },
   "source": [
    "df_final = pd.merge(df_final, df_basic, left_on='Equipo', right_on='Equipo', how='left')"
   ],
   "outputs": [],
   "execution_count": 30
  },
  {
   "cell_type": "code",
   "id": "27805526",
   "metadata": {
    "ExecuteTime": {
     "end_time": "2024-11-01T16:52:03.246053Z",
     "start_time": "2024-11-01T16:52:03.241213Z"
    }
   },
   "source": [
    "df_opp=df_final.copy()\n",
    "df_tm=df_final.copy()"
   ],
   "outputs": [],
   "execution_count": 31
  },
  {
   "cell_type": "code",
   "id": "4f2b35d5",
   "metadata": {
    "ExecuteTime": {
     "end_time": "2024-11-01T16:52:03.282914Z",
     "start_time": "2024-11-01T16:52:03.278239Z"
    }
   },
   "source": [
    "columns_to_rename = ['Edad', 'Pos.', 'Ass', 'TPint', 'PrgC', 'PrgP', '% de TT',\n",
    "       'Dist', '% Cmp', 'Dist. tot.', 'TklG', 'Int', 'Err', 'RL', 'PG', 'PE',\n",
    "       'PP', 'GF', 'GC', 'xG', 'xGA', 'Últimos 5',\n",
    "       'Máximo Goleador del Equipo']\n",
    "new_column_names_tm = [f\"{col}(tm)\" for col in columns_to_rename]\n",
    "df_tm.rename(columns=dict(zip(columns_to_rename, new_column_names_tm)), inplace=True)"
   ],
   "outputs": [],
   "execution_count": 32
  },
  {
   "cell_type": "code",
   "id": "392babf1",
   "metadata": {
    "ExecuteTime": {
     "end_time": "2024-11-01T16:52:03.322723Z",
     "start_time": "2024-11-01T16:52:03.318717Z"
    }
   },
   "source": [
    "columns_to_rename = ['Edad', 'Pos.', 'Ass', 'TPint', 'PrgC', 'PrgP', '% de TT',\n",
    "       'Dist', '% Cmp', 'Dist. tot.', 'TklG', 'Int', 'Err', 'RL', 'PG', 'PE',\n",
    "       'PP', 'GF', 'GC', 'xG', 'xGA', 'Últimos 5',\n",
    "       'Máximo Goleador del Equipo']\n",
    "new_column_names_opp = [f\"{col}(opp)\" for col in columns_to_rename]\n",
    "df_opp.rename(columns=dict(zip(columns_to_rename, new_column_names_opp)), inplace=True)"
   ],
   "outputs": [],
   "execution_count": 33
  },
  {
   "cell_type": "code",
   "id": "dd50ee01",
   "metadata": {
    "ExecuteTime": {
     "end_time": "2024-11-01T16:52:03.365894Z",
     "start_time": "2024-11-01T16:52:03.360109Z"
    }
   },
   "source": [
    "df = pd.merge(df, df_opp, left_on='Adversario', right_on='Equipo', how='left')"
   ],
   "outputs": [],
   "execution_count": 34
  },
  {
   "cell_type": "code",
   "id": "c76f908c",
   "metadata": {
    "ExecuteTime": {
     "end_time": "2024-11-01T16:52:03.410734Z",
     "start_time": "2024-11-01T16:52:03.405458Z"
    }
   },
   "source": [
    "df = pd.merge(df, df_tm, left_on='Anfitrion', right_on='Equipo', how='left')"
   ],
   "outputs": [],
   "execution_count": 35
  },
  {
   "cell_type": "code",
   "id": "4cce1ac6",
   "metadata": {
    "ExecuteTime": {
     "end_time": "2024-11-01T16:52:03.455770Z",
     "start_time": "2024-11-01T16:52:03.450838Z"
    }
   },
   "source": [
    "df=df.drop(['Equipo_x','Equipo_y'],axis=1)"
   ],
   "outputs": [],
   "execution_count": 36
  },
  {
   "cell_type": "code",
   "id": "9318f3da",
   "metadata": {
    "ExecuteTime": {
     "end_time": "2024-11-01T16:52:03.522599Z",
     "start_time": "2024-11-01T16:52:03.510855Z"
    }
   },
   "source": [
    "df.head()"
   ],
   "outputs": [
    {
     "data": {
      "text/plain": [
       "   Día  Sedes      Adversario   Anfitrion  Edad(opp)  Pos.(opp)  Ass(opp)  \\\n",
       "0    5      1        Mallorca      Alavés       28.9       45.8         7   \n",
       "1    6      1      Valladolid     Osasuna       25.8       43.0         6   \n",
       "2    6      1         Leganés      Girona       28.0       43.6         9   \n",
       "3    6      1  Rayo Vallecano  Villarreal       29.4       48.8         9   \n",
       "4    6      1     Real Madrid    Valencia       27.7       58.1        15   \n",
       "\n",
       "   TPint(opp)  PrgC(opp)  PrgP(opp)  ...  RL(tm)  PG(tm)  PE(tm)  PP(tm)  \\\n",
       "0           1        143        345  ...      16       3       1       7   \n",
       "1           3        143        317  ...       8       5       3       3   \n",
       "2           1        120        290  ...      13       3       3       5   \n",
       "3           0        161        372  ...       3       6       3       2   \n",
       "4           5        260        581  ...      20       1       4       6   \n",
       "\n",
       "   GF(tm)  GC(tm)  xG(tm)  xGA(tm)  Últimos 5(tm)  \\\n",
       "0      13      19    11.9     16.5              0   \n",
       "1      16      16    11.5     14.2              8   \n",
       "2      11      14    13.9     12.5              5   \n",
       "3      20      19    17.9     14.8             10   \n",
       "4       8      17     8.0     17.9              3   \n",
       "\n",
       "   Máximo Goleador del Equipo(tm)  \n",
       "0                               3  \n",
       "1                               5  \n",
       "2                               3  \n",
       "3                               7  \n",
       "4                               2  \n",
       "\n",
       "[5 rows x 50 columns]"
      ],
      "text/html": [
       "<div>\n",
       "<style scoped>\n",
       "    .dataframe tbody tr th:only-of-type {\n",
       "        vertical-align: middle;\n",
       "    }\n",
       "\n",
       "    .dataframe tbody tr th {\n",
       "        vertical-align: top;\n",
       "    }\n",
       "\n",
       "    .dataframe thead th {\n",
       "        text-align: right;\n",
       "    }\n",
       "</style>\n",
       "<table border=\"1\" class=\"dataframe\">\n",
       "  <thead>\n",
       "    <tr style=\"text-align: right;\">\n",
       "      <th></th>\n",
       "      <th>Día</th>\n",
       "      <th>Sedes</th>\n",
       "      <th>Adversario</th>\n",
       "      <th>Anfitrion</th>\n",
       "      <th>Edad(opp)</th>\n",
       "      <th>Pos.(opp)</th>\n",
       "      <th>Ass(opp)</th>\n",
       "      <th>TPint(opp)</th>\n",
       "      <th>PrgC(opp)</th>\n",
       "      <th>PrgP(opp)</th>\n",
       "      <th>...</th>\n",
       "      <th>RL(tm)</th>\n",
       "      <th>PG(tm)</th>\n",
       "      <th>PE(tm)</th>\n",
       "      <th>PP(tm)</th>\n",
       "      <th>GF(tm)</th>\n",
       "      <th>GC(tm)</th>\n",
       "      <th>xG(tm)</th>\n",
       "      <th>xGA(tm)</th>\n",
       "      <th>Últimos 5(tm)</th>\n",
       "      <th>Máximo Goleador del Equipo(tm)</th>\n",
       "    </tr>\n",
       "  </thead>\n",
       "  <tbody>\n",
       "    <tr>\n",
       "      <th>0</th>\n",
       "      <td>5</td>\n",
       "      <td>1</td>\n",
       "      <td>Mallorca</td>\n",
       "      <td>Alavés</td>\n",
       "      <td>28.9</td>\n",
       "      <td>45.8</td>\n",
       "      <td>7</td>\n",
       "      <td>1</td>\n",
       "      <td>143</td>\n",
       "      <td>345</td>\n",
       "      <td>...</td>\n",
       "      <td>16</td>\n",
       "      <td>3</td>\n",
       "      <td>1</td>\n",
       "      <td>7</td>\n",
       "      <td>13</td>\n",
       "      <td>19</td>\n",
       "      <td>11.9</td>\n",
       "      <td>16.5</td>\n",
       "      <td>0</td>\n",
       "      <td>3</td>\n",
       "    </tr>\n",
       "    <tr>\n",
       "      <th>1</th>\n",
       "      <td>6</td>\n",
       "      <td>1</td>\n",
       "      <td>Valladolid</td>\n",
       "      <td>Osasuna</td>\n",
       "      <td>25.8</td>\n",
       "      <td>43.0</td>\n",
       "      <td>6</td>\n",
       "      <td>3</td>\n",
       "      <td>143</td>\n",
       "      <td>317</td>\n",
       "      <td>...</td>\n",
       "      <td>8</td>\n",
       "      <td>5</td>\n",
       "      <td>3</td>\n",
       "      <td>3</td>\n",
       "      <td>16</td>\n",
       "      <td>16</td>\n",
       "      <td>11.5</td>\n",
       "      <td>14.2</td>\n",
       "      <td>8</td>\n",
       "      <td>5</td>\n",
       "    </tr>\n",
       "    <tr>\n",
       "      <th>2</th>\n",
       "      <td>6</td>\n",
       "      <td>1</td>\n",
       "      <td>Leganés</td>\n",
       "      <td>Girona</td>\n",
       "      <td>28.0</td>\n",
       "      <td>43.6</td>\n",
       "      <td>9</td>\n",
       "      <td>1</td>\n",
       "      <td>120</td>\n",
       "      <td>290</td>\n",
       "      <td>...</td>\n",
       "      <td>13</td>\n",
       "      <td>3</td>\n",
       "      <td>3</td>\n",
       "      <td>5</td>\n",
       "      <td>11</td>\n",
       "      <td>14</td>\n",
       "      <td>13.9</td>\n",
       "      <td>12.5</td>\n",
       "      <td>5</td>\n",
       "      <td>3</td>\n",
       "    </tr>\n",
       "    <tr>\n",
       "      <th>3</th>\n",
       "      <td>6</td>\n",
       "      <td>1</td>\n",
       "      <td>Rayo Vallecano</td>\n",
       "      <td>Villarreal</td>\n",
       "      <td>29.4</td>\n",
       "      <td>48.8</td>\n",
       "      <td>9</td>\n",
       "      <td>0</td>\n",
       "      <td>161</td>\n",
       "      <td>372</td>\n",
       "      <td>...</td>\n",
       "      <td>3</td>\n",
       "      <td>6</td>\n",
       "      <td>3</td>\n",
       "      <td>2</td>\n",
       "      <td>20</td>\n",
       "      <td>19</td>\n",
       "      <td>17.9</td>\n",
       "      <td>14.8</td>\n",
       "      <td>10</td>\n",
       "      <td>7</td>\n",
       "    </tr>\n",
       "    <tr>\n",
       "      <th>4</th>\n",
       "      <td>6</td>\n",
       "      <td>1</td>\n",
       "      <td>Real Madrid</td>\n",
       "      <td>Valencia</td>\n",
       "      <td>27.7</td>\n",
       "      <td>58.1</td>\n",
       "      <td>15</td>\n",
       "      <td>5</td>\n",
       "      <td>260</td>\n",
       "      <td>581</td>\n",
       "      <td>...</td>\n",
       "      <td>20</td>\n",
       "      <td>1</td>\n",
       "      <td>4</td>\n",
       "      <td>6</td>\n",
       "      <td>8</td>\n",
       "      <td>17</td>\n",
       "      <td>8.0</td>\n",
       "      <td>17.9</td>\n",
       "      <td>3</td>\n",
       "      <td>2</td>\n",
       "    </tr>\n",
       "  </tbody>\n",
       "</table>\n",
       "<p>5 rows × 50 columns</p>\n",
       "</div>"
      ]
     },
     "execution_count": 37,
     "metadata": {},
     "output_type": "execute_result"
    }
   ],
   "execution_count": 37
  },
  {
   "cell_type": "markdown",
   "id": "79c287fb",
   "metadata": {},
   "source": [
    "### Exportamos el archivo"
   ]
  },
  {
   "cell_type": "code",
   "id": "74248d3a",
   "metadata": {
    "ExecuteTime": {
     "end_time": "2024-11-01T16:52:41.470277Z",
     "start_time": "2024-11-01T16:52:41.226674Z"
    }
   },
   "source": [
    "archivo_destino = f\"Predictions Jornada{jornada}.xlsx\"\n",
    "\n",
    "# Escribe el dataframe en el archivo de destino\n",
    "df.to_excel(archivo_destino)\n",
    "\n",
    "print(f\"Se agregron correctamente los datos de {archivo_destino}\")"
   ],
   "outputs": [
    {
     "name": "stdout",
     "output_type": "stream",
     "text": [
      "Se agregron correctamente los datos de Predictions Jornada12.xlsx\n"
     ]
    }
   ],
   "execution_count": 38
  },
  {
   "cell_type": "code",
   "execution_count": null,
   "id": "c6c359ce",
   "metadata": {
    "ExecuteTime": {
     "end_time": "2024-09-27T18:01:16.966336Z",
     "start_time": "2024-09-27T18:01:16.963912Z"
    }
   },
   "outputs": [],
   "source": []
  }
 ],
 "metadata": {
  "kernelspec": {
   "display_name": "Python 3 (ipykernel)",
   "language": "python",
   "name": "python3"
  },
  "language_info": {
   "codemirror_mode": {
    "name": "ipython",
    "version": 3
   },
   "file_extension": ".py",
   "mimetype": "text/x-python",
   "name": "python",
   "nbconvert_exporter": "python",
   "pygments_lexer": "ipython3",
   "version": "3.12.3"
  }
 },
 "nbformat": 4,
 "nbformat_minor": 5
}
